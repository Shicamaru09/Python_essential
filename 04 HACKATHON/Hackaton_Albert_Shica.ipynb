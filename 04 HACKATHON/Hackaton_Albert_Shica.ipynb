{
  "nbformat": 4,
  "nbformat_minor": 0,
  "metadata": {
    "colab": {
      "private_outputs": true,
      "provenance": [],
      "include_colab_link": true
    },
    "kernelspec": {
      "name": "python3",
      "display_name": "Python 3"
    },
    "language_info": {
      "name": "python"
    }
  },
  "cells": [
    {
      "cell_type": "markdown",
      "metadata": {
        "id": "view-in-github",
        "colab_type": "text"
      },
      "source": [
        "<a href=\"https://colab.research.google.com/github/Shicamaru09/Python_essential/blob/main/04%20HACKATHON/Hackaton_Albert_Shica.ipynb\" target=\"_parent\"><img src=\"https://colab.research.google.com/assets/colab-badge.svg\" alt=\"Open In Colab\"/></a>"
      ]
    },
    {
      "cell_type": "markdown",
      "source": [
        "![picture](https://drive.google.com/uc?export=view&id=1fgw5LmnIXFKvPyfNwXr4t79DIJ11Pgtk)\n"
      ],
      "metadata": {
        "id": "Jqdn_4rWOyPw"
      }
    },
    {
      "cell_type": "markdown",
      "source": [
        "# Ciudad:\n"
      ],
      "metadata": {
        "id": "j_xQzMhJZ7sZ"
      }
    },
    {
      "cell_type": "markdown",
      "source": [
        "## Descripción de la Situación:"
      ],
      "metadata": {
        "id": "Of8t6ZOCaBJg"
      }
    },
    {
      "cell_type": "code",
      "execution_count": null,
      "metadata": {
        "id": "G7tW3hMjOcTm"
      },
      "outputs": [],
      "source": [
        "import pandas as pd\n",
        "df = pd.read_csv('')"
      ]
    }
  ]
}