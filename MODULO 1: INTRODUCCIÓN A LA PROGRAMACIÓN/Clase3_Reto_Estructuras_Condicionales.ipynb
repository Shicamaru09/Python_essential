{
  "nbformat": 4,
  "nbformat_minor": 0,
  "metadata": {
    "colab": {
      "provenance": [],
      "include_colab_link": true
    },
    "kernelspec": {
      "name": "python3",
      "display_name": "Python 3"
    },
    "language_info": {
      "name": "python"
    }
  },
  "cells": [
    {
      "cell_type": "markdown",
      "metadata": {
        "id": "view-in-github",
        "colab_type": "text"
      },
      "source": [
        "<a href=\"https://colab.research.google.com/github/Shicamaru09/Python_essential/blob/main/MODULO%201%3A%20INTRODUCCI%C3%93N%20A%20LA%20PROGRAMACI%C3%93N/Clase3_Reto_Estructuras_Condicionales.ipynb\" target=\"_parent\"><img src=\"https://colab.research.google.com/assets/colab-badge.svg\" alt=\"Open In Colab\"/></a>"
      ]
    },
    {
      "cell_type": "markdown",
      "source": [
        "# RETO FINAL\n",
        "\n",
        "**\"Simulador de precalificación para crédito hipotecario\"**\n",
        "\n",
        "*Instrucciones:*\n",
        "\n",
        "Una persona quiere saber si califica para un crédito hipotecario. El sistema debe:\n",
        "\n",
        "* Pedir el ingreso mensual, edad y el valor del inmueble.\n",
        "* Calcular la cuota mensual (crédito a 20 años, tasa fija de 6% anual).\n",
        "* Evaluar si la cuota no supera el 30% del ingreso mensual.\n",
        "* Validar que la edad + plazo del crédito no supere 70 años.\n",
        "* Llevar el historial de evaluaciones realizadas (usando una lista).\n",
        "* Mostrar un mensaje con el monto de la cuota, si califica o no, y guardar ese resultado en la lista historial_simulaciones."
      ],
      "metadata": {
        "id": "ejKZ_8Wynvge"
      }
    },
    {
      "cell_type": "code",
      "execution_count": null,
      "metadata": {
        "id": "rP0kepAwnuJ4"
      },
      "outputs": [],
      "source": [
        "# Entradas del usuario\n",
        "ingreso_mensual = float(input(\"¿Cuál es tu ingreso mensual? \"))\n",
        "edad = int(input(\"¿Cuál es tu edad? \"))\n",
        "valor_inmueble = float(input(\"¿Cuál es el valor del inmueble? \"))\n",
        "\n",
        "# Parámetros del crédito\n",
        "plazo_anios = 20\n",
        "tasa_interes_anual = 0.06\n",
        "cuotas = plazo_anios * 12\n",
        "\n",
        "# Cálculo del monto total a pagar\n",
        "monto_total = valor_inmueble * (1 + tasa_interes_anual)\n",
        "cuota_mensual = monto_total / cuotas\n",
        "\n",
        "# Evaluación\n",
        "historial_simulaciones = []\n",
        "\n",
        "if cuota_mensual <= ingreso_mensual * 0.3 and (edad + plazo_anios) <= 70:\n",
        "    resultado = f\"Aprobado ✅ - Cuota mensual: ${round(cuota_mensual, 2)}\"\n",
        "else:\n",
        "    diferencia = abs(round(cuota_mensual - ingreso_mensual * 0.3, 2))\n",
        "    resultado = f\"Rechazado ❌ - Cuota mensual excede tu 30% máximo por ${diferencia}\"\n",
        "\n",
        "# Mostrar resultado\n",
        "print(resultado)\n",
        "\n",
        "# Guardar historial\n",
        "historial_simulaciones.append(resultado)\n",
        "print(\"Historial de simulaciones:\", historial_simulaciones)\n"
      ]
    }
  ]
}