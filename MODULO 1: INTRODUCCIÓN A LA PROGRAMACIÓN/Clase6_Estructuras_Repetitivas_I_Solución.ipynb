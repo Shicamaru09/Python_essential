{
  "nbformat": 4,
  "nbformat_minor": 0,
  "metadata": {
    "colab": {
      "provenance": [],
      "include_colab_link": true
    },
    "kernelspec": {
      "name": "python3",
      "display_name": "Python 3"
    },
    "language_info": {
      "name": "python"
    }
  },
  "cells": [
    {
      "cell_type": "markdown",
      "metadata": {
        "id": "view-in-github",
        "colab_type": "text"
      },
      "source": [
        "<a href=\"https://colab.research.google.com/github/Shicamaru09/Python_essential/blob/main/MODULO%201%3A%20INTRODUCCI%C3%93N%20A%20LA%20PROGRAMACI%C3%93N/Clase6_Estructuras_Repetitivas_I_Soluci%C3%B3n.ipynb\" target=\"_parent\"><img src=\"https://colab.research.google.com/assets/colab-badge.svg\" alt=\"Open In Colab\"/></a>"
      ]
    },
    {
      "cell_type": "markdown",
      "source": [
        "# Listas"
      ],
      "metadata": {
        "id": "b6u9ZppDiG0G"
      }
    },
    {
      "cell_type": "markdown",
      "source": [
        "1."
      ],
      "metadata": {
        "id": "Iv4rOBPBg28C"
      }
    },
    {
      "cell_type": "code",
      "execution_count": null,
      "metadata": {
        "id": "IpVKOJwOg1LV"
      },
      "outputs": [],
      "source": [
        "bancos = [\"Santander\", \"BBVA\", \"Scotiabank\", \"Interbank\", \"BCP\"]\n",
        "print(bancos)"
      ]
    },
    {
      "cell_type": "markdown",
      "source": [
        "2."
      ],
      "metadata": {
        "id": "5LVfdrkfg58Y"
      }
    },
    {
      "cell_type": "code",
      "source": [
        "print(bancos[2])  # Scotiabank\n"
      ],
      "metadata": {
        "id": "eIjwH4Wtg3wu"
      },
      "execution_count": null,
      "outputs": []
    },
    {
      "cell_type": "markdown",
      "source": [
        "3."
      ],
      "metadata": {
        "id": "7UB_MHMWg3eu"
      }
    },
    {
      "cell_type": "code",
      "source": [
        "bancos.append(\"BanBif\")\n",
        "print(bancos)"
      ],
      "metadata": {
        "id": "U0FJvZSVg66I"
      },
      "execution_count": null,
      "outputs": []
    },
    {
      "cell_type": "markdown",
      "source": [
        "4."
      ],
      "metadata": {
        "id": "eH0MArfahaAP"
      }
    },
    {
      "cell_type": "code",
      "source": [
        "del bancos[1]\n",
        "print(bancos)\n"
      ],
      "metadata": {
        "id": "5o8_p7Hrha0N"
      },
      "execution_count": null,
      "outputs": []
    },
    {
      "cell_type": "markdown",
      "source": [
        "5."
      ],
      "metadata": {
        "id": "RPT1fCfPheT5"
      }
    },
    {
      "cell_type": "code",
      "source": [
        "bancos.sort()\n",
        "print(bancos)\n"
      ],
      "metadata": {
        "id": "kcdaHdrShfFA"
      },
      "execution_count": null,
      "outputs": []
    },
    {
      "cell_type": "markdown",
      "source": [
        "# Condicionales IF, ELIF, ELSE"
      ],
      "metadata": {
        "id": "-ef_yV8piJTE"
      }
    },
    {
      "cell_type": "markdown",
      "source": [
        "1."
      ],
      "metadata": {
        "id": "rQLa_29ViQKU"
      }
    },
    {
      "cell_type": "code",
      "source": [
        "ingreso = 3500\n",
        "if ingreso > 3000:\n",
        "    print(\"Cliente de ingreso alto\")\n",
        "else:\n",
        "    print(\"Cliente de ingreso medio/bajo\")\n"
      ],
      "metadata": {
        "id": "Fti89s47iOs7"
      },
      "execution_count": null,
      "outputs": []
    },
    {
      "cell_type": "markdown",
      "source": [
        "2."
      ],
      "metadata": {
        "id": "2kZQ39mTiRSI"
      }
    },
    {
      "cell_type": "code",
      "source": [
        "edad = 22\n",
        "if edad >= 21:\n",
        "    print(\"Elegible para tarjeta\")\n",
        "else:\n",
        "    print(\"No elegible\")\n"
      ],
      "metadata": {
        "id": "Sz5t1dhdiPoN"
      },
      "execution_count": null,
      "outputs": []
    },
    {
      "cell_type": "markdown",
      "source": [
        "3."
      ],
      "metadata": {
        "id": "Z2ytZ2XqiT_U"
      }
    },
    {
      "cell_type": "code",
      "source": [
        "score = 700\n",
        "if score >= 750:\n",
        "    print(\"Excelente\")\n",
        "elif score >= 650:\n",
        "    print(\"Bueno\")\n",
        "else:\n",
        "    print(\"Riesgo alto\")\n"
      ],
      "metadata": {
        "id": "bct1PqR_iVDJ"
      },
      "execution_count": null,
      "outputs": []
    },
    {
      "cell_type": "markdown",
      "source": [
        "4."
      ],
      "metadata": {
        "id": "nHFwCcybiW6H"
      }
    },
    {
      "cell_type": "code",
      "source": [
        "saldo = -150\n",
        "if saldo < 0:\n",
        "    print(\"Cuenta en sobregiro\")\n",
        "else:\n",
        "    print(\"Cuenta en positivo\")\n"
      ],
      "metadata": {
        "id": "UOoBY3KeiXoW"
      },
      "execution_count": null,
      "outputs": []
    },
    {
      "cell_type": "markdown",
      "source": [
        "5."
      ],
      "metadata": {
        "id": "CpyjJi6RiZXg"
      }
    },
    {
      "cell_type": "code",
      "source": [
        "tasa1 = 3.5\n",
        "tasa2 = 4.2\n",
        "if tasa1 < tasa2:\n",
        "    print(\"Tasa1 es más competitiva\")\n",
        "else:\n",
        "    print(\"Tasa2 es mejor\")\n"
      ],
      "metadata": {
        "id": "K6_rXMIciZ_b"
      },
      "execution_count": null,
      "outputs": []
    },
    {
      "cell_type": "markdown",
      "source": [
        "6."
      ],
      "metadata": {
        "id": "3TP7LJTCiblX"
      }
    },
    {
      "cell_type": "code",
      "source": [
        "productos = 4\n",
        "if productos > 3:\n",
        "    print(\"Cliente full-banking\")\n",
        "else:\n",
        "    print(\"Cliente en expansión\")\n"
      ],
      "metadata": {
        "id": "xzK8iOB-iclg"
      },
      "execution_count": null,
      "outputs": []
    },
    {
      "cell_type": "markdown",
      "source": [
        "7."
      ],
      "metadata": {
        "id": "yoc8pXNxie0o"
      }
    },
    {
      "cell_type": "code",
      "source": [
        "deposito = 12000\n",
        "if deposito >= 10000:\n",
        "    print(\"Debe reportarse\")\n",
        "else:\n",
        "    print(\"No requiere reporte\")\n"
      ],
      "metadata": {
        "id": "VfGT1tYUifn_"
      },
      "execution_count": null,
      "outputs": []
    },
    {
      "cell_type": "markdown",
      "source": [
        "# Diccionarios"
      ],
      "metadata": {
        "id": "3IIN4ch1kkln"
      }
    },
    {
      "cell_type": "markdown",
      "source": [
        "1."
      ],
      "metadata": {
        "id": "064DVkOnkpG-"
      }
    },
    {
      "cell_type": "code",
      "source": [
        "cliente = {\"nombre\": \"Ana\", \"saldo\": 4500}\n",
        "print(cliente)\n"
      ],
      "metadata": {
        "id": "NoCdAbtBkpx6"
      },
      "execution_count": null,
      "outputs": []
    },
    {
      "cell_type": "markdown",
      "source": [
        "2."
      ],
      "metadata": {
        "id": "YIdaS9PRkrVt"
      }
    },
    {
      "cell_type": "code",
      "source": [
        "print(cliente[\"saldo\"])\n"
      ],
      "metadata": {
        "id": "ehNoyO1KksmC"
      },
      "execution_count": null,
      "outputs": []
    },
    {
      "cell_type": "markdown",
      "source": [
        "3."
      ],
      "metadata": {
        "id": "vd1U2v74kuYS"
      }
    },
    {
      "cell_type": "code",
      "source": [
        "cliente[\"saldo\"] = 5000\n",
        "print(cliente)\n"
      ],
      "metadata": {
        "id": "cbdMGb9LkvDo"
      },
      "execution_count": null,
      "outputs": []
    },
    {
      "cell_type": "markdown",
      "source": [
        "4."
      ],
      "metadata": {
        "id": "J6EPCNo6kwm0"
      }
    },
    {
      "cell_type": "code",
      "source": [
        "cliente[\"tarjeta_credito\"] = \"Visa\"\n",
        "print(cliente)\n"
      ],
      "metadata": {
        "id": "MT_bUPBakxcw"
      },
      "execution_count": null,
      "outputs": []
    },
    {
      "cell_type": "markdown",
      "source": [
        "5."
      ],
      "metadata": {
        "id": "MYHucqHRk0Hc"
      }
    },
    {
      "cell_type": "code",
      "source": [
        "del cliente[\"nombre\"]\n",
        "print(cliente)\n"
      ],
      "metadata": {
        "id": "Lx_woDXRk0-d"
      },
      "execution_count": null,
      "outputs": []
    },
    {
      "cell_type": "markdown",
      "source": [
        "# FOR"
      ],
      "metadata": {
        "id": "M8CisrUQk4bZ"
      }
    },
    {
      "cell_type": "markdown",
      "source": [
        "1."
      ],
      "metadata": {
        "id": "sUEFCDxvk58k"
      }
    },
    {
      "cell_type": "code",
      "source": [
        "tasas = [2.5, 3.0, 3.2]\n",
        "for tasa in tasas:\n",
        "    print(f\"Tasa: {tasa}%\")\n"
      ],
      "metadata": {
        "id": "2glFAsb4k61V"
      },
      "execution_count": null,
      "outputs": []
    },
    {
      "cell_type": "markdown",
      "source": [
        "2."
      ],
      "metadata": {
        "id": "g0bJQyCAk8fl"
      }
    },
    {
      "cell_type": "code",
      "source": [
        "saldos = [1000, 2500, 3000]\n",
        "total = 0\n",
        "for saldo in saldos:\n",
        "    total += saldo\n",
        "print(\"Saldo total:\", total)\n"
      ],
      "metadata": {
        "id": "bAZ2vyUOk9QV"
      },
      "execution_count": null,
      "outputs": []
    },
    {
      "cell_type": "markdown",
      "source": [
        "3."
      ],
      "metadata": {
        "id": "-j1LSE8ek_By"
      }
    },
    {
      "cell_type": "code",
      "source": [
        "precios = [50, 80, 120]\n",
        "for precio in precios:\n",
        "    nuevo_precio = precio * 0.9\n",
        "    print(\"Precio con descuento:\", nuevo_precio)\n"
      ],
      "metadata": {
        "id": "-fIGa7mYlAIs"
      },
      "execution_count": null,
      "outputs": []
    },
    {
      "cell_type": "markdown",
      "source": [
        "4."
      ],
      "metadata": {
        "id": "R_gmJQIglBm5"
      }
    },
    {
      "cell_type": "code",
      "source": [
        "productos = [80, 120, 150, 90]\n",
        "contador = 0\n",
        "for producto in productos:\n",
        "    if producto > 100:\n",
        "        contador += 1\n",
        "print(\"Productos caros:\", contador)\n"
      ],
      "metadata": {
        "id": "WwNgDxV-lDrQ"
      },
      "execution_count": null,
      "outputs": []
    },
    {
      "cell_type": "markdown",
      "source": [
        "5."
      ],
      "metadata": {
        "id": "o6wxcuEFlFTt"
      }
    },
    {
      "cell_type": "code",
      "source": [
        "productos = [80, 120, 150, 90]\n",
        "contador = 0\n",
        "for producto in productos:\n",
        "    if producto > 100:\n",
        "        contador += 1\n",
        "print(\"Productos caros:\", contador)\n"
      ],
      "metadata": {
        "id": "5NCpownelGMw"
      },
      "execution_count": null,
      "outputs": []
    },
    {
      "cell_type": "markdown",
      "source": [
        "6."
      ],
      "metadata": {
        "id": "wtS1wmQGlHPN"
      }
    },
    {
      "cell_type": "code",
      "source": [
        "clientes = {\n",
        "    \"001\": 1500,\n",
        "    \"002\": 2500,\n",
        "    \"003\": 3000\n",
        "}\n",
        "for id_cliente, saldo in clientes.items():\n",
        "    if saldo > 2000:\n",
        "        print(f\"Cliente {id_cliente} tiene saldo alto: {saldo}\")\n"
      ],
      "metadata": {
        "id": "h8avHkhhlIza"
      },
      "execution_count": null,
      "outputs": []
    },
    {
      "cell_type": "markdown",
      "source": [
        "7."
      ],
      "metadata": {
        "id": "geE52oFilKaV"
      }
    },
    {
      "cell_type": "code",
      "source": [
        "emails = [\"ana@gmail.com\", \"luis@yahoo.com\", \"maria@gmail.com\"]\n",
        "contador = 0\n",
        "for email in emails:\n",
        "    if email.endswith(\"@gmail.com\"):\n",
        "        contador += 1\n",
        "print(\"Clientes Gmail:\", contador)\n"
      ],
      "metadata": {
        "id": "rQ7sEaWXlLLs"
      },
      "execution_count": null,
      "outputs": []
    },
    {
      "cell_type": "markdown",
      "source": [
        "# Mini Proyecto"
      ],
      "metadata": {
        "id": "5wYl_6hEkaKR"
      }
    },
    {
      "cell_type": "code",
      "source": [
        "clientes = {\n",
        "    \"001\": {\"nombre\": \"Ana\", \"ingreso_mensual\": 4000, \"deuda\": 10000, \"productos\": 3},\n",
        "    \"002\": {\"nombre\": \"Luis\", \"ingreso_mensual\": 2500, \"deuda\": 5000, \"productos\": 1},\n",
        "    \"003\": {\"nombre\": \"Sofía\", \"ingreso_mensual\": 3200, \"deuda\": 20000, \"productos\": 2},\n",
        "    \"004\": {\"nombre\": \"Carlos\", \"ingreso_mensual\": 5000, \"deuda\": 8000, \"productos\": 4},\n",
        "    \"005\": {\"nombre\": \"María\", \"ingreso_mensual\": 2800, \"deuda\": 3000, \"productos\": 2}\n",
        "}\n",
        "\n",
        "for cliente in clientes.values():\n",
        "    ingreso_anual = cliente[\"ingreso_mensual\"] * 12  # Calculamos ingreso anual\n",
        "\n",
        "    if ingreso_anual > 36000 and cliente[\"deuda\"] < 15000 and cliente[\"productos\"] >= 2:\n",
        "        resultado = \"Elegible\"\n",
        "    elif ingreso_anual > 36000 or cliente[\"deuda\"] < 15000 or cliente[\"productos\"] >= 2:\n",
        "        resultado = \"Requiere Evaluación\"\n",
        "    else:\n",
        "        resultado = \"No Elegible\"\n",
        "\n",
        "    print(f\"Cliente: {cliente['nombre']} - Resultado: {resultado}\")\n"
      ],
      "metadata": {
        "id": "JAnGSPHmkc1D"
      },
      "execution_count": null,
      "outputs": []
    }
  ]
}