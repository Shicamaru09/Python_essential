{
  "nbformat": 4,
  "nbformat_minor": 0,
  "metadata": {
    "colab": {
      "provenance": [],
      "include_colab_link": true
    },
    "kernelspec": {
      "name": "python3",
      "display_name": "Python 3"
    },
    "language_info": {
      "name": "python"
    }
  },
  "cells": [
    {
      "cell_type": "markdown",
      "metadata": {
        "id": "view-in-github",
        "colab_type": "text"
      },
      "source": [
        "<a href=\"https://colab.research.google.com/github/Shicamaru09/Python_essential/blob/main/MODULO%201%3A%20INTRODUCCI%C3%93N%20A%20LA%20PROGRAMACI%C3%93N/Clase10_Recursividad.ipynb\" target=\"_parent\"><img src=\"https://colab.research.google.com/assets/colab-badge.svg\" alt=\"Open In Colab\"/></a>"
      ]
    },
    {
      "cell_type": "markdown",
      "source": [
        "# Recursividad en Python"
      ],
      "metadata": {
        "id": "OVwQVEDyn2yr"
      }
    },
    {
      "cell_type": "markdown",
      "source": [
        "**Objetivos de aprendizaje**\n",
        "\n",
        "- Comprender qué es la recursividad y cuándo se utiliza.\n",
        "- Aprender a escribir funciones recursivas en Python.\n",
        "- Diferenciar entre recursión y repetición con for/while.\n",
        "- Aplicar recursividad en problemas reales de análisis de datos, marketing, finanzas y ecommerce."
      ],
      "metadata": {
        "id": "uZ1tHNswn-OP"
      }
    },
    {
      "cell_type": "markdown",
      "source": [
        "**1. TEORÍA**\n",
        "\n",
        "**¿Qué es la recursividad?**\n",
        "\n",
        "La recursividad es una técnica en la que una función se llama a sí misma para resolver un problema más grande dividiéndolo en subproblemas más pequeños."
      ],
      "metadata": {
        "id": "zA01peWZoIPA"
      }
    },
    {
      "cell_type": "markdown",
      "source": [
        "**Requisitos:**\n",
        "\n",
        "Caso base: condición que detiene la recursión.\n",
        "Paso recursivo: llamada a la misma función con un nuevo valor."
      ],
      "metadata": {
        "id": "AXGBG7FeoQHf"
      }
    },
    {
      "cell_type": "markdown",
      "source": [
        "**Ejemplo clásico:**\n",
        "\n",
        "Factorial"
      ],
      "metadata": {
        "id": "7bvUZWFtoUiN"
      }
    },
    {
      "cell_type": "code",
      "execution_count": null,
      "metadata": {
        "id": "NSUQT0MnnwWc"
      },
      "outputs": [],
      "source": [
        "def factorial(n):\n",
        "    if n == 0:\n",
        "        return 1  # caso base\n",
        "    else:\n",
        "        return n * factorial(n - 1)  # paso recursivo"
      ]
    },
    {
      "cell_type": "code",
      "source": [
        "def factorial(n):\n",
        "    x = 1\n",
        "    for i in range(1, n+1):\n",
        "        x = x * i\n",
        "    return x"
      ],
      "metadata": {
        "id": "eHCvg7d_Yjb_"
      },
      "execution_count": null,
      "outputs": []
    },
    {
      "cell_type": "code",
      "source": [
        "n = 3"
      ],
      "metadata": {
        "id": "kszztWMVc_Yp"
      },
      "execution_count": null,
      "outputs": []
    },
    {
      "cell_type": "code",
      "source": [
        "x = 1"
      ],
      "metadata": {
        "id": "EhmVCEKfiJ9M"
      },
      "execution_count": null,
      "outputs": []
    },
    {
      "cell_type": "code",
      "source": [
        "for i in range(1, n+1):\n",
        "    x = x * i\n",
        "    print(x)"
      ],
      "metadata": {
        "colab": {
          "base_uri": "https://localhost:8080/"
        },
        "id": "bOHHiwRYczu_",
        "outputId": "5b31c188-84a5-459f-baa0-720143c45e74"
      },
      "execution_count": null,
      "outputs": [
        {
          "output_type": "stream",
          "name": "stdout",
          "text": [
            "1\n",
            "2\n",
            "6\n"
          ]
        }
      ]
    },
    {
      "cell_type": "code",
      "source": [
        "for i in range(1, n+1):\n",
        "    print(i)"
      ],
      "metadata": {
        "colab": {
          "base_uri": "https://localhost:8080/"
        },
        "id": "y4IbmkUwisuz",
        "outputId": "c17441e3-f16f-4641-c4a3-aa00e5eb900d"
      },
      "execution_count": null,
      "outputs": [
        {
          "output_type": "stream",
          "name": "stdout",
          "text": [
            "1\n",
            "2\n",
            "3\n"
          ]
        }
      ]
    },
    {
      "cell_type": "code",
      "source": [
        "x=1\n",
        "x = 1 * 1\n",
        "x = 1 * 2\n",
        "x = 2 * 3"
      ],
      "metadata": {
        "id": "e2iEvFrgi0Bg"
      },
      "execution_count": null,
      "outputs": []
    },
    {
      "cell_type": "markdown",
      "source": [
        "factorial(7) = 7*factorial(6)"
      ],
      "metadata": {
        "id": "xiAcpWMOcKx8"
      }
    },
    {
      "cell_type": "markdown",
      "source": [
        "**2. EJEMPLOS APLICADOS**"
      ],
      "metadata": {
        "id": "kefRXtnToeLJ"
      }
    },
    {
      "cell_type": "code",
      "source": [
        "def interes_compuesto(capital, tasa, años):\n",
        "    if años == 0:\n",
        "        return capital\n",
        "    else:\n",
        "        return interes_compuesto(capital * (1 + tasa), tasa, años - 1)\n",
        "\n",
        "print(interes_compuesto(1000, 0.05, 3))  # 1157.625"
      ],
      "metadata": {
        "id": "w1GSGHvtoi2Q",
        "colab": {
          "base_uri": "https://localhost:8080/"
        },
        "outputId": "08dd5bcd-0ee8-4d07-ea38-f38179344ec0"
      },
      "execution_count": null,
      "outputs": [
        {
          "output_type": "stream",
          "name": "stdout",
          "text": [
            "1157.625\n"
          ]
        }
      ]
    },
    {
      "cell_type": "markdown",
      "source": [
        "monto final = capital * (1+tasa)^años\n",
        "\n",
        "monto final = [capital * (1 + tasa)^ 1]*(1+tasa)^años-1\n",
        "\n",
        "monto final = capital * [(1 + tasa)^ (1+años-1)]\n",
        "monto final = capital * (1+ tasa) ^años\n",
        "\n",
        "caso base: años = 0\n",
        "monto final = capital * 1\n",
        "\n",
        "caso recursivo: (años > 0)\n",
        "años=1\n",
        "monto final1 = capital * (1+tasa)\n",
        "\n",
        "años=2\n",
        "monto final = capital * (1+tasa)^2 = monto final1*\n",
        "\n",
        "año 3 --> monto final = 1000* 1.05 = 1050\n",
        "\n",
        "año 2 --> 1050 * 1.05 = 1102.5\n",
        "año 1 -->\n",
        "\n"
      ],
      "metadata": {
        "id": "2M1PvmovlM2w"
      }
    },
    {
      "cell_type": "code",
      "source": [
        "monto_a1 = 1000*(1+0.05)\n",
        "monto_a1"
      ],
      "metadata": {
        "colab": {
          "base_uri": "https://localhost:8080/"
        },
        "id": "eGACcU0BqJTA",
        "outputId": "6cac2fcb-6ad9-46c9-c211-514d691117ae"
      },
      "execution_count": null,
      "outputs": [
        {
          "output_type": "execute_result",
          "data": {
            "text/plain": [
              "1050.0"
            ]
          },
          "metadata": {},
          "execution_count": 32
        }
      ]
    },
    {
      "cell_type": "code",
      "source": [
        "monto_a2 = 1000*(1+0.05)*(1+0.05)\n",
        "monto_a2"
      ],
      "metadata": {
        "colab": {
          "base_uri": "https://localhost:8080/"
        },
        "id": "0jl5ZNIDqZhF",
        "outputId": "5205811e-8c1d-470a-c2c4-2071e069f7f0"
      },
      "execution_count": null,
      "outputs": [
        {
          "output_type": "execute_result",
          "data": {
            "text/plain": [
              "1102.5"
            ]
          },
          "metadata": {},
          "execution_count": 33
        }
      ]
    },
    {
      "cell_type": "code",
      "source": [
        "monto_a3 = 1000*(1+0.05)*(1+0.05)*(1+0.05)\n",
        "monto_a3"
      ],
      "metadata": {
        "colab": {
          "base_uri": "https://localhost:8080/"
        },
        "id": "VCoIa2AOqizM",
        "outputId": "16b107f2-43aa-4763-da2c-a52372bef504"
      },
      "execution_count": null,
      "outputs": [
        {
          "output_type": "execute_result",
          "data": {
            "text/plain": [
              "1157.625"
            ]
          },
          "metadata": {},
          "execution_count": 34
        }
      ]
    },
    {
      "cell_type": "code",
      "source": [
        "def suma_ventas(ventas):\n",
        "    if len(ventas) == 0:\n",
        "        return 0\n",
        "    else:\n",
        "        return ventas[0] + suma_ventas(ventas[1:])\n",
        "\n",
        "print(suma_ventas([120, 340, 560]))  # 1020"
      ],
      "metadata": {
        "id": "kxx-2ynOonJ2",
        "colab": {
          "base_uri": "https://localhost:8080/"
        },
        "outputId": "99da2020-b2c8-415d-d017-2ebd204dd9d2"
      },
      "execution_count": null,
      "outputs": [
        {
          "output_type": "stream",
          "name": "stdout",
          "text": [
            "1020\n"
          ]
        }
      ]
    },
    {
      "cell_type": "code",
      "source": [
        "lista_ventas[0]+ suma_ventas ([340, 560])"
      ],
      "metadata": {
        "id": "CvJTpVETx2TU"
      },
      "execution_count": null,
      "outputs": []
    },
    {
      "cell_type": "code",
      "source": [
        "lista_ventas[0]+ 340 + suma_ventas ([560])"
      ],
      "metadata": {
        "id": "Qm2sBTSnyNt6"
      },
      "execution_count": null,
      "outputs": []
    },
    {
      "cell_type": "code",
      "source": [
        "lista_ventas = [120, 340, 560]"
      ],
      "metadata": {
        "id": "3tligUVkt7C4"
      },
      "execution_count": null,
      "outputs": []
    },
    {
      "cell_type": "code",
      "source": [
        "lista_ventas[1:]"
      ],
      "metadata": {
        "colab": {
          "base_uri": "https://localhost:8080/"
        },
        "id": "g0LS6U0oweJC",
        "outputId": "a12103fc-a8bb-483b-edec-ac6f3fe49c5c"
      },
      "execution_count": null,
      "outputs": [
        {
          "output_type": "execute_result",
          "data": {
            "text/plain": [
              "[340, 560]"
            ]
          },
          "metadata": {},
          "execution_count": 42
        }
      ]
    },
    {
      "cell_type": "code",
      "source": [
        "lista_ventas[0]"
      ],
      "metadata": {
        "colab": {
          "base_uri": "https://localhost:8080/"
        },
        "id": "FeB1YDq_wkCp",
        "outputId": "f66a64e3-73e7-4dbd-fdc6-bfa94dbdf6c7"
      },
      "execution_count": null,
      "outputs": [
        {
          "output_type": "execute_result",
          "data": {
            "text/plain": [
              "120"
            ]
          },
          "metadata": {},
          "execution_count": 43
        }
      ]
    },
    {
      "cell_type": "code",
      "source": [
        "sum(lista_ventas)"
      ],
      "metadata": {
        "colab": {
          "base_uri": "https://localhost:8080/"
        },
        "id": "hiifg4BZuG1Z",
        "outputId": "0e0c1e9b-7b33-437b-f9cb-dd930b52457d"
      },
      "execution_count": null,
      "outputs": [
        {
          "output_type": "execute_result",
          "data": {
            "text/plain": [
              "1020"
            ]
          },
          "metadata": {},
          "execution_count": 38
        }
      ]
    },
    {
      "cell_type": "code",
      "source": [
        "def suma_ventas(ventas):\n",
        "    total = 0\n",
        "    for i in ventas:\n",
        "        total = total + i\n",
        "    return total"
      ],
      "metadata": {
        "id": "mmEGu92Yucca"
      },
      "execution_count": null,
      "outputs": []
    },
    {
      "cell_type": "code",
      "source": [
        "total = 0\n",
        "for i in [120, 340, 560]:\n",
        "    total = total + i"
      ],
      "metadata": {
        "id": "1cW7AdRMvf9T"
      },
      "execution_count": null,
      "outputs": []
    },
    {
      "cell_type": "code",
      "source": [
        "total = 0\n",
        "total = 0 + 1er valor lista\n",
        "total = 0 + 1er valor lista + 2do valor lista\n",
        "total = 0 + 1er valor lista + 2do valor lista + n valor lista"
      ],
      "metadata": {
        "id": "sxvjjt0LvDAu"
      },
      "execution_count": null,
      "outputs": []
    },
    {
      "cell_type": "code",
      "source": [
        "def contar_clics_positivos(lista):\n",
        "    if not lista:\n",
        "        return 0\n",
        "    if lista[0] > 0:\n",
        "        return 1 + contar_clics_positivos(lista[1:])\n",
        "    else:\n",
        "        return contar_clics_positivos(lista[1:])\n",
        "\n",
        "clics = [1, 0, 2, 0, 5]\n",
        "print(contar_clics_positivos(clics))  # 3"
      ],
      "metadata": {
        "id": "HwcRhlUPoqvZ"
      },
      "execution_count": null,
      "outputs": []
    },
    {
      "cell_type": "code",
      "source": [
        "def contar_clics_positivos(lista):\n",
        "    contador = 0\n",
        "    for i in lista:\n",
        "        if i > 0:\n",
        "            contador = contador + 1\n",
        "    return contador"
      ],
      "metadata": {
        "id": "njh6A8QC0Gcb"
      },
      "execution_count": null,
      "outputs": []
    },
    {
      "cell_type": "code",
      "source": [
        "def contar_clics_positivos(lista):\n",
        "    contador = 0\n",
        "    for i in range(len(lista)):\n",
        "        if lista[i] > 0:\n",
        "            contador = contador +1\n",
        "    return contador"
      ],
      "metadata": {
        "id": "LBkI3rF71Nw8"
      },
      "execution_count": null,
      "outputs": []
    },
    {
      "cell_type": "markdown",
      "source": [
        "**3. PRÁCTICA GUIADA**\n",
        "\n",
        "Paso a paso:\n",
        "- Identificar el caso base.\n",
        "- Establecer el paso recursivo.\n",
        "- Validar inputs extremos (0, negativos, listas vacías)."
      ],
      "metadata": {
        "id": "Og9d7Lw9ot5S"
      }
    },
    {
      "cell_type": "markdown",
      "source": [
        "1. Crear una función recursiva que cuente regresivamente desde un número dado hasta 0.\n",
        "2. Crear una función recursiva para calcular la suma de los primeros n números naturales.\n",
        "3. Escribir una función que recorra recursivamente una lista de precios y devuelva el precio mayor.\n",
        "4. Dado un diccionario de ventas por categoría, usar recursividad para sumar todas las ventas.\n",
        "5. En una lista de deudas, usar recursividad para saber cuántas superan cierto umbral (e.g. > 1000).\n",
        "6. Calcular cuántos productos tienen descuento en una lista de booleanos [True, False, True...].\n",
        "7. Crear una función recursiva para contar cuántas veces aparece una palabra clave en una lista de campañas de marketing."
      ],
      "metadata": {
        "id": "3q030OJ6o764"
      }
    }
  ]
}