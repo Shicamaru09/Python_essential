{
  "nbformat": 4,
  "nbformat_minor": 0,
  "metadata": {
    "colab": {
      "provenance": [],
      "include_colab_link": true
    },
    "kernelspec": {
      "name": "python3",
      "display_name": "Python 3"
    },
    "language_info": {
      "name": "python"
    }
  },
  "cells": [
    {
      "cell_type": "markdown",
      "metadata": {
        "id": "view-in-github",
        "colab_type": "text"
      },
      "source": [
        "<a href=\"https://colab.research.google.com/github/Shicamaru09/Python_essential/blob/main/M%C3%93DULO%202%3A%20ESTRUCTURAS%20DE%20DATOS%20SECUENCIALES/Clase11_Listas_y_Tuplas.ipynb\" target=\"_parent\"><img src=\"https://colab.research.google.com/assets/colab-badge.svg\" alt=\"Open In Colab\"/></a>"
      ]
    },
    {
      "cell_type": "markdown",
      "source": [
        "## [1] Ejemplos de resutados en Python (listas)"
      ],
      "metadata": {
        "id": "RC5ssv_RyXXl"
      }
    },
    {
      "cell_type": "markdown",
      "source": [
        "### [1.1] De expresiones regulares"
      ],
      "metadata": {
        "id": "m8U92nipzNEz"
      }
    },
    {
      "cell_type": "code",
      "execution_count": null,
      "metadata": {
        "colab": {
          "base_uri": "https://localhost:8080/"
        },
        "id": "y2j3ZkyJxfTf",
        "outputId": "628d34d3-c9cc-4873-f7f8-e92b0daad604"
      },
      "outputs": [
        {
          "output_type": "stream",
          "name": "stdout",
          "text": [
            "['david@example.com', 'ana123@gmail.com']\n"
          ]
        }
      ],
      "source": [
        "import re\n",
        "\n",
        "texto = \"Mi correo es david@example.com y el de Ana es ana123@gmail.com\"\n",
        "correos = re.findall(r'\\S+@\\S+', texto)\n",
        "print(correos)"
      ]
    },
    {
      "cell_type": "code",
      "source": [
        "type(correos)"
      ],
      "metadata": {
        "colab": {
          "base_uri": "https://localhost:8080/"
        },
        "id": "E-JxjBuwyavM",
        "outputId": "ea4866e9-3c89-473a-8182-58097cab3d75"
      },
      "execution_count": null,
      "outputs": [
        {
          "output_type": "execute_result",
          "data": {
            "text/plain": [
              "list"
            ]
          },
          "metadata": {},
          "execution_count": 88
        }
      ]
    },
    {
      "cell_type": "markdown",
      "source": [
        "### [1.2] Del uso de librerías"
      ],
      "metadata": {
        "id": "emDsY1i0z-Ej"
      }
    },
    {
      "cell_type": "code",
      "source": [
        "import sys\n",
        "\n",
        "sys.path"
      ],
      "metadata": {
        "colab": {
          "base_uri": "https://localhost:8080/"
        },
        "id": "p6yeYDvb0Lr7",
        "outputId": "f16fc6db-0998-44a5-f42e-009302cf5deb"
      },
      "execution_count": null,
      "outputs": [
        {
          "output_type": "execute_result",
          "data": {
            "text/plain": [
              "['/content',\n",
              " '/env/python',\n",
              " '/usr/lib/python311.zip',\n",
              " '/usr/lib/python3.11',\n",
              " '/usr/lib/python3.11/lib-dynload',\n",
              " '',\n",
              " '/usr/local/lib/python3.11/dist-packages',\n",
              " '/usr/lib/python3/dist-packages',\n",
              " '/usr/local/lib/python3.11/dist-packages/IPython/extensions',\n",
              " '/usr/local/lib/python3.11/dist-packages/setuptools/_vendor',\n",
              " '/root/.ipython']"
            ]
          },
          "metadata": {},
          "execution_count": 89
        }
      ]
    },
    {
      "cell_type": "code",
      "source": [
        "type(sys.path)"
      ],
      "metadata": {
        "colab": {
          "base_uri": "https://localhost:8080/"
        },
        "id": "3QgxX7400Tod",
        "outputId": "8d9e0e41-6067-4d1f-ed72-84b7d6151065"
      },
      "execution_count": null,
      "outputs": [
        {
          "output_type": "execute_result",
          "data": {
            "text/plain": [
              "list"
            ]
          },
          "metadata": {},
          "execution_count": 90
        }
      ]
    },
    {
      "cell_type": "markdown",
      "source": [
        "### [1.3] De Dataframes"
      ],
      "metadata": {
        "id": "SrQhILEo0bwm"
      }
    },
    {
      "cell_type": "code",
      "source": [
        "import pandas as pd\n",
        "\n",
        "df = pd.read_csv(\"/content/clientes.csv\", sep=\";\")\n",
        "nombres = df.columns.tolist()\n",
        "print(nombres)"
      ],
      "metadata": {
        "colab": {
          "base_uri": "https://localhost:8080/"
        },
        "id": "wvk_SxO8zEaK",
        "outputId": "2dfd57b3-4b36-4cf6-d781-8f0475609d0e"
      },
      "execution_count": null,
      "outputs": [
        {
          "output_type": "stream",
          "name": "stdout",
          "text": [
            "['ID', 'EDAD', 'INGRESOS', 'RIESGO', 'LINEA_TC']\n"
          ]
        }
      ]
    },
    {
      "cell_type": "code",
      "source": [
        "type(nombres)"
      ],
      "metadata": {
        "colab": {
          "base_uri": "https://localhost:8080/"
        },
        "id": "m77tovvY0sQC",
        "outputId": "48648f3a-ffcc-4e33-ba25-bdbc3ec5532d"
      },
      "execution_count": null,
      "outputs": [
        {
          "output_type": "execute_result",
          "data": {
            "text/plain": [
              "list"
            ]
          },
          "metadata": {},
          "execution_count": 92
        }
      ]
    },
    {
      "cell_type": "markdown",
      "source": [
        "### [1.3] De archivos de texto"
      ],
      "metadata": {
        "id": "ZmHzYEI91xj3"
      }
    },
    {
      "cell_type": "code",
      "source": [
        "import csv\n",
        "\n",
        "with open(\"/content/clientes.csv\", newline='') as archivo:\n",
        "    lector = csv.reader(archivo, delimiter=';')\n",
        "    filas = list(lector)\n",
        "    print(filas)  # Lista de listas (filas del archivo CSV)\n"
      ],
      "metadata": {
        "colab": {
          "base_uri": "https://localhost:8080/"
        },
        "id": "Sp2JIB8x1Gp0",
        "outputId": "3cc135ea-f54b-4d06-9478-536898689d56"
      },
      "execution_count": null,
      "outputs": [
        {
          "output_type": "stream",
          "name": "stdout",
          "text": [
            "[['ID', 'EDAD', 'INGRESOS', 'RIESGO', 'LINEA_TC'], ['123', '36', '1348', 'A', '49924'], ['234', '52', '9479', 'A', '28454'], ['345', '60', '7511', 'B', '14250'], ['456', '40', '7992', 'C', '32064'], ['567', '58', '2675', 'C', '1485'], ['678', '47', '7086', 'D', '29157'], ['789', '31', '4704', 'E', '14945'], ['999', '42', '6245', 'E', '8798']]\n"
          ]
        }
      ]
    },
    {
      "cell_type": "markdown",
      "source": [
        "## [2] Crear una lista"
      ],
      "metadata": {
        "id": "irKBCMSW02eJ"
      }
    },
    {
      "cell_type": "markdown",
      "source": [
        "### Actividad N001"
      ],
      "metadata": {
        "id": "--8g9GOM463B"
      }
    },
    {
      "cell_type": "code",
      "source": [
        "lugares = ['macchupichu','punta sal','pastoruri','laguna sauce','huacachina']"
      ],
      "metadata": {
        "id": "vnmUFQc_0xKy"
      },
      "execution_count": null,
      "outputs": []
    },
    {
      "cell_type": "code",
      "source": [
        "type(lugares)"
      ],
      "metadata": {
        "colab": {
          "base_uri": "https://localhost:8080/"
        },
        "id": "7lm6QZR_NY1t",
        "outputId": "4a2de655-3655-4e57-a734-0ccf8107afee"
      },
      "execution_count": null,
      "outputs": [
        {
          "output_type": "execute_result",
          "data": {
            "text/plain": [
              "list"
            ]
          },
          "metadata": {},
          "execution_count": 95
        }
      ]
    },
    {
      "cell_type": "code",
      "source": [
        "print(f\"La lista de mis lugares favoritos es \\n{lugares}\")"
      ],
      "metadata": {
        "colab": {
          "base_uri": "https://localhost:8080/"
        },
        "id": "EwmY7UZh21hv",
        "outputId": "dcda2762-c3af-4276-a54c-a0abf6b3c543"
      },
      "execution_count": null,
      "outputs": [
        {
          "output_type": "stream",
          "name": "stdout",
          "text": [
            "La lista de mis lugares favoritos es \n",
            "['macchupichu', 'punta sal', 'pastoruri', 'laguna sauce', 'huacachina']\n"
          ]
        }
      ]
    },
    {
      "cell_type": "markdown",
      "source": [
        "## [3] Tipos de listas"
      ],
      "metadata": {
        "id": "wQ0it4O23BVX"
      }
    },
    {
      "cell_type": "markdown",
      "source": [
        "### Actividad N002"
      ],
      "metadata": {
        "id": "mJ__gEzN5A8u"
      }
    },
    {
      "cell_type": "code",
      "source": [
        "nombre = 'david'\n",
        "apellidoPaterno = 'allende'\n",
        "profesion = 'estadístico'\n",
        "edad = 37\n",
        "centroLabores = 'misd'\n",
        "aniosExperiencia = 13\n",
        "\n",
        "info_personal = [nombre, apellidoPaterno, profesion, edad, centroLabores, aniosExperiencia]\n",
        "#info_personal = ['david','allende','estadístico',37,'misd',13]"
      ],
      "metadata": {
        "id": "GaG9FW5Y27RN"
      },
      "execution_count": null,
      "outputs": []
    },
    {
      "cell_type": "code",
      "source": [
        "print(f\"La lista info_personal contiene \\n {info_personal}\")"
      ],
      "metadata": {
        "colab": {
          "base_uri": "https://localhost:8080/"
        },
        "id": "aK6OVxAI3oUN",
        "outputId": "3e7d090d-0f4d-4b96-8998-5d933a77d462"
      },
      "execution_count": null,
      "outputs": [
        {
          "output_type": "stream",
          "name": "stdout",
          "text": [
            "La lista info_personal contiene \n",
            " ['david', 'allende', 'estadístico', 37, 'misd', 13]\n"
          ]
        }
      ]
    },
    {
      "cell_type": "code",
      "source": [
        "type(info_personal)"
      ],
      "metadata": {
        "colab": {
          "base_uri": "https://localhost:8080/"
        },
        "id": "XNNnv1ePPaa8",
        "outputId": "16874bb1-6a18-4c6d-a7e4-6a7797c7b486"
      },
      "execution_count": null,
      "outputs": [
        {
          "output_type": "execute_result",
          "data": {
            "text/plain": [
              "list"
            ]
          },
          "metadata": {},
          "execution_count": 99
        }
      ]
    },
    {
      "cell_type": "markdown",
      "source": [
        "## [4] Acceder a los elementos de una lista"
      ],
      "metadata": {
        "id": "7Bw-DDlF31UD"
      }
    },
    {
      "cell_type": "code",
      "source": [
        "materias = ['álgebra','aritmética','razonamiento verbal','trigonometría','geometría']"
      ],
      "metadata": {
        "id": "WFYgRar93v2D"
      },
      "execution_count": null,
      "outputs": []
    },
    {
      "cell_type": "code",
      "source": [
        "type(materias)"
      ],
      "metadata": {
        "colab": {
          "base_uri": "https://localhost:8080/"
        },
        "id": "xlQZv6nmQSas",
        "outputId": "df45eb9b-d816-4ad4-9093-5cb2847dd7c3"
      },
      "execution_count": null,
      "outputs": [
        {
          "output_type": "execute_result",
          "data": {
            "text/plain": [
              "list"
            ]
          },
          "metadata": {},
          "execution_count": 101
        }
      ]
    },
    {
      "cell_type": "code",
      "source": [
        "print(f\"La lista materias contiene los siguientes elementos \\n {materias}\")\n",
        "print(f\"El segundo elemento de la lista materias es {materias[1]}\")"
      ],
      "metadata": {
        "colab": {
          "base_uri": "https://localhost:8080/"
        },
        "id": "lTC_xydf4VfA",
        "outputId": "40f70d15-c984-4b43-93eb-85e54fb3ef96"
      },
      "execution_count": null,
      "outputs": [
        {
          "output_type": "stream",
          "name": "stdout",
          "text": [
            "La lista materias contiene los siguientes elementos \n",
            " ['álgebra', 'aritmética', 'razonamiento verbal', 'trigonometría', 'geometría']\n",
            "El segundo elemento de la lista materias es aritmética\n"
          ]
        }
      ]
    },
    {
      "cell_type": "markdown",
      "source": [
        "### Actividad N003"
      ],
      "metadata": {
        "id": "q0AS9Dqx4wN2"
      }
    },
    {
      "cell_type": "code",
      "source": [
        "## SOLUCIÓN ACTIVIDAD N003\n",
        "\n",
        "places = [\"Oxapampa\",\"Huaraz\",\"Yungay\",\"Arequipa\",\"Organos\"]\n",
        "\n",
        "print(f\"La lista lugares: \\n {places}\")\n",
        "print(f\"El primer elemento de la lista lugares es {places[0]}\")\n",
        "print(f\"El primer elemento de la lista lugares es {places[0].upper()}\")"
      ],
      "metadata": {
        "colab": {
          "base_uri": "https://localhost:8080/"
        },
        "id": "aFI0M3XO4oSb",
        "outputId": "fbea76ab-84fe-4c6c-c4f0-1cb6508a8a43"
      },
      "execution_count": null,
      "outputs": [
        {
          "output_type": "stream",
          "name": "stdout",
          "text": [
            "La lista lugares: \n",
            " ['Oxapampa', 'Huaraz', 'Yungay', 'Arequipa', 'Organos']\n",
            "El primer elemento de la lista lugares es Oxapampa\n",
            "El primer elemento de la lista lugares es OXAPAMPA\n"
          ]
        }
      ]
    },
    {
      "cell_type": "code",
      "source": [
        "print(f\"La lista lugares: \\n {lugares}\")\n",
        "print(f\"El tercer elemento de la lista lugares es {lugares[2]}\")\n",
        "print(f\"El tercer elemento de la lista lugares (en mayúsculas) es {lugares[2].upper()}\")"
      ],
      "metadata": {
        "colab": {
          "base_uri": "https://localhost:8080/"
        },
        "id": "-2v5LC1A5RKV",
        "outputId": "5da74e1e-7437-4af0-b5f9-33163731989c"
      },
      "execution_count": null,
      "outputs": [
        {
          "output_type": "stream",
          "name": "stdout",
          "text": [
            "La lista lugares: \n",
            " ['macchupichu', 'punta sal', 'pastoruri', 'laguna sauce', 'huacachina']\n",
            "El tercer elemento de la lista lugares es pastoruri\n",
            "El tercer elemento de la lista lugares (en mayúsculas) es PASTORURI\n"
          ]
        }
      ]
    },
    {
      "cell_type": "markdown",
      "source": [
        "### Actividad N004"
      ],
      "metadata": {
        "id": "oxmJ79pa57qM"
      }
    },
    {
      "cell_type": "code",
      "source": [
        "print(f\"Los elementos de la lista info_personal son \\n{info_personal}\")"
      ],
      "metadata": {
        "colab": {
          "base_uri": "https://localhost:8080/"
        },
        "id": "DyQpcKpKUJVS",
        "outputId": "6ceeea8f-0674-4651-a494-5c8e16f4eff0"
      },
      "execution_count": null,
      "outputs": [
        {
          "output_type": "stream",
          "name": "stdout",
          "text": [
            "Los elementos de la lista info_personal son \n",
            "['david', 'allende', 'estadístico', 37, 'misd', 13]\n"
          ]
        }
      ]
    },
    {
      "cell_type": "code",
      "source": [
        "## SOLUCIÓN ACTIVIDAD N004\n",
        "\n",
        "print(f\"Hola, me llamo {info_personal[0].capitalize()} {info_personal[1].capitalize()} soy {info_personal[2].capitalize()}, tengo {info_personal[3]} años, trabajo en la empresa {info_personal[4].capitalize()} y tengo {info_personal[5]} años de experiencia.\")"
      ],
      "metadata": {
        "colab": {
          "base_uri": "https://localhost:8080/"
        },
        "id": "CeGQrfyY5frQ",
        "outputId": "bdb1f918-e1ad-4f1c-ce64-531617720069"
      },
      "execution_count": null,
      "outputs": [
        {
          "output_type": "stream",
          "name": "stdout",
          "text": [
            "Hola, me llamo David Allende soy Estadístico, tengo 37 años, trabajo en la empresa Misd y tengo 13 años de experiencia.\n"
          ]
        }
      ]
    },
    {
      "cell_type": "code",
      "source": [
        "print(f\"La lista materias contiene \\n{materias}\")\n",
        "print(f\"El último elemento de la lista es {materias[-1]}\")"
      ],
      "metadata": {
        "colab": {
          "base_uri": "https://localhost:8080/"
        },
        "id": "l6kaEYDr6Sn_",
        "outputId": "cc38fb2d-77cf-4a80-ecc6-ecd42e512e2c"
      },
      "execution_count": null,
      "outputs": [
        {
          "output_type": "stream",
          "name": "stdout",
          "text": [
            "La lista materias contiene \n",
            "['álgebra', 'aritmética', 'razonamiento verbal', 'trigonometría', 'geometría']\n",
            "El último elemento de la lista es geometría\n"
          ]
        }
      ]
    },
    {
      "cell_type": "markdown",
      "source": [
        "### Actividad N005"
      ],
      "metadata": {
        "id": "gXt3UlLD6j1I"
      }
    },
    {
      "cell_type": "code",
      "source": [
        "## SOLUCIÓN ACTIVIDAD N005\n",
        "\n",
        "marcas = ['kuna','alpaca 111','puna','univers']\n",
        "print(f\"El último elemento de la lista creada es: {marcas[-1]}\")"
      ],
      "metadata": {
        "colab": {
          "base_uri": "https://localhost:8080/"
        },
        "id": "Xw-NMtVe6aJ4",
        "outputId": "96682a6d-b6b1-4532-8843-fa6234daf2e4"
      },
      "execution_count": null,
      "outputs": [
        {
          "output_type": "stream",
          "name": "stdout",
          "text": [
            "El último elemento de la lista creada es: univers\n"
          ]
        }
      ]
    },
    {
      "cell_type": "code",
      "source": [
        "brands = [\"toyota\", \"nissan\", \"Lamborgini\", \"mazda\", \"renault\", \"ford\"]\n",
        "print(f\"El último elemento de la lista es {brands[-1].capitalize()}.\")"
      ],
      "metadata": {
        "colab": {
          "base_uri": "https://localhost:8080/"
        },
        "id": "C1Fjwrx_Ysrx",
        "outputId": "d0e9cbc8-8a45-4aa1-ed0e-4d6c47f96247"
      },
      "execution_count": null,
      "outputs": [
        {
          "output_type": "stream",
          "name": "stdout",
          "text": [
            "El último elemento de la lista es Ford.\n"
          ]
        }
      ]
    },
    {
      "cell_type": "code",
      "source": [
        "marca =('adidas', 'apple', 'lg', 'coca cola')\n",
        "print(f\"El último elemento del objeto marca es {marca[-1].capitalize()}.\")"
      ],
      "metadata": {
        "colab": {
          "base_uri": "https://localhost:8080/"
        },
        "id": "fCZNSrkoY991",
        "outputId": "a72e1aec-3e86-45ab-b8a2-cd3f7bff4bb6"
      },
      "execution_count": null,
      "outputs": [
        {
          "output_type": "stream",
          "name": "stdout",
          "text": [
            "El último elemento del objeto marca es Coca cola.\n"
          ]
        }
      ]
    },
    {
      "cell_type": "code",
      "source": [
        "%whos"
      ],
      "metadata": {
        "colab": {
          "base_uri": "https://localhost:8080/"
        },
        "id": "SkEjp8LgZlHh",
        "outputId": "9c7ab9eb-68e6-4de8-e67e-bc2f8136d386"
      },
      "execution_count": null,
      "outputs": [
        {
          "output_type": "stream",
          "name": "stdout",
          "text": [
            "Variable           Type             Data/Info\n",
            "---------------------------------------------\n",
            "aniosExperiencia   int              13\n",
            "apellidoPaterno    str              allende\n",
            "archivo            TextIOWrapper    <_io.TextIOWrapper name='<...>ode='r' encoding='utf-8'>\n",
            "brands             list             n=6\n",
            "centroLabores      str              misd\n",
            "correos            list             n=2\n",
            "csv                module           <module 'csv' from '/usr/lib/python3.11/csv.py'>\n",
            "df                 DataFrame            ID  EDAD  INGRESOS RI<...>    6245      E      8798\n",
            "edad               int              37\n",
            "el_el1             str              punta sal\n",
            "el_el2             str              máncora\n",
            "el_exc1            str              química\n",
            "el_exc2            str              trigonometría\n",
            "filas              list             n=9\n",
            "info_personal      list             n=6\n",
            "lector             reader           <_csv.reader object at 0x7e41ceab3d80>\n",
            "lugares            list             n=5\n",
            "marca              tuple            n=4\n",
            "marcas             list             n=4\n",
            "materias           list             n=5\n",
            "nombre             str              david\n",
            "nombres            list             n=5\n",
            "pd                 module           <module 'pandas' from '/u<...>ages/pandas/__init__.py'>\n",
            "places             list             n=5\n",
            "profesion          str              estadístico\n",
            "re                 module           <module 're' from '/usr/l<...>thon3.11/re/__init__.py'>\n",
            "sys                module           <module 'sys' (built-in)>\n",
            "texto              str              Mi correo es david@exampl<...>e Ana es ana123@gmail.com\n"
          ]
        }
      ]
    },
    {
      "cell_type": "markdown",
      "source": [
        "## [5] Modificar los elementos de una lista"
      ],
      "metadata": {
        "id": "9vPV8Ya06s84"
      }
    },
    {
      "cell_type": "code",
      "source": [
        "print(f\"La lista original de materias es \\n{materias}\")\n",
        "materias[1] = 'filosofía'\n",
        "print(f\"La lista actualizada de materias es \\n{materias}\")"
      ],
      "metadata": {
        "colab": {
          "base_uri": "https://localhost:8080/"
        },
        "id": "qeD97ZwE6n4m",
        "outputId": "60fb12d8-3667-48aa-be74-9c794f430dec"
      },
      "execution_count": null,
      "outputs": [
        {
          "output_type": "stream",
          "name": "stdout",
          "text": [
            "La lista original de materias es \n",
            "['álgebra', 'aritmética', 'razonamiento verbal', 'trigonometría', 'geometría']\n",
            "La lista actualizada de materias es \n",
            "['álgebra', 'filosofía', 'razonamiento verbal', 'trigonometría', 'geometría']\n"
          ]
        }
      ]
    },
    {
      "cell_type": "markdown",
      "source": [
        "### Actividad N006"
      ],
      "metadata": {
        "id": "piyoQAzu7Pqv"
      }
    },
    {
      "cell_type": "code",
      "source": [
        "## SOLUCIÓN ACTIVIDAD N006\n",
        "print(f\"La información personal original es \\n{info_personal}\")\n",
        "info_personal[4] = 'google'\n",
        "print(f\"La información personal actualizada es \\n{info_personal}\")"
      ],
      "metadata": {
        "colab": {
          "base_uri": "https://localhost:8080/"
        },
        "id": "cW_FXD7G7JI_",
        "outputId": "8cc641b2-eece-49c4-ea42-8eabcc522387"
      },
      "execution_count": null,
      "outputs": [
        {
          "output_type": "stream",
          "name": "stdout",
          "text": [
            "La información personal original es \n",
            "['david', 'allende', 'estadístico', 37, 'misd', 13]\n",
            "La información personal actualizada es \n",
            "['david', 'allende', 'estadístico', 37, 'google', 13]\n"
          ]
        }
      ]
    },
    {
      "cell_type": "markdown",
      "source": [
        "## [6] Añadir un elemento a una lista"
      ],
      "metadata": {
        "id": "nzRyoj8H7bMD"
      }
    },
    {
      "cell_type": "markdown",
      "source": [
        "### Método append"
      ],
      "metadata": {
        "id": "F5qgskxX79FW"
      }
    },
    {
      "cell_type": "code",
      "source": [
        "print(f\"La lista original es \\n{materias}\")\n",
        "materias.append('química')\n",
        "print(f\"La lista actualizada es \\n{materias}\")"
      ],
      "metadata": {
        "colab": {
          "base_uri": "https://localhost:8080/"
        },
        "id": "5YeIR2kw7XTZ",
        "outputId": "ba8bd8c8-080a-4822-b13b-c13ad7e460d7"
      },
      "execution_count": null,
      "outputs": [
        {
          "output_type": "stream",
          "name": "stdout",
          "text": [
            "La lista original es \n",
            "['álgebra', 'filosofía', 'razonamiento verbal', 'trigonometría', 'geometría']\n",
            "La lista actualizada es \n",
            "['álgebra', 'filosofía', 'razonamiento verbal', 'trigonometría', 'geometría', 'química']\n"
          ]
        }
      ]
    },
    {
      "cell_type": "markdown",
      "source": [
        "### Actividad N007"
      ],
      "metadata": {
        "id": "uKnBn9RX7zoB"
      }
    },
    {
      "cell_type": "code",
      "source": [
        "## SOLUCIÓN ACTIVIDA N007\n",
        "\n",
        "print(f\"La lista original es \\n{lugares}\")\n",
        "lugares.append('máncora')\n",
        "print(f\"La lista actualizada es \\n{lugares}\")"
      ],
      "metadata": {
        "colab": {
          "base_uri": "https://localhost:8080/"
        },
        "id": "f25BvpPa7vSw",
        "outputId": "9d6543b8-2468-4528-e76d-49c286cdaee8"
      },
      "execution_count": null,
      "outputs": [
        {
          "output_type": "stream",
          "name": "stdout",
          "text": [
            "La lista original es \n",
            "['macchupichu', 'punta sal', 'pastoruri', 'laguna sauce', 'huacachina']\n",
            "La lista actualizada es \n",
            "['macchupichu', 'punta sal', 'pastoruri', 'laguna sauce', 'huacachina', 'máncora']\n"
          ]
        }
      ]
    },
    {
      "cell_type": "markdown",
      "source": [
        "### Método insert"
      ],
      "metadata": {
        "id": "Ejv_9b5g8CKs"
      }
    },
    {
      "cell_type": "code",
      "source": [
        "print(f\"La lista de materias es \\n{materias}\")\n",
        "materias.insert(3,'física')\n",
        "print(f\"La lista de materias actualizada es \\n{materias}\")"
      ],
      "metadata": {
        "colab": {
          "base_uri": "https://localhost:8080/"
        },
        "id": "jC1p2XUZ73wB",
        "outputId": "4627add3-89fe-47a9-d29b-f624405aa0d6"
      },
      "execution_count": null,
      "outputs": [
        {
          "output_type": "stream",
          "name": "stdout",
          "text": [
            "La lista de materias es \n",
            "['álgebra', 'filosofía', 'razonamiento verbal', 'trigonometría', 'geometría', 'química']\n",
            "La lista de materias actualizada es \n",
            "['álgebra', 'filosofía', 'razonamiento verbal', 'física', 'trigonometría', 'geometría', 'química']\n"
          ]
        }
      ]
    },
    {
      "cell_type": "markdown",
      "source": [
        "### Actividad N008"
      ],
      "metadata": {
        "id": "DcgswlJf8ggw"
      }
    },
    {
      "cell_type": "code",
      "source": [
        "## SOLUCIÓN ACTIVIDAD N008\n",
        "\n",
        "print(f\"La lista info_personal tiene los siguientes elementos \\n{info_personal}\")\n",
        "info_personal.insert(4,'unalm')\n",
        "print(f\"Hola me llamo {info_personal[0].capitalize()} {info_personal[1].capitalize()} soy {info_personal[2].capitalize()}, estudié en la institución {info_personal[4].upper()}, tengo {info_personal[3]} años, trabajo en la empresa {info_personal[5].capitalize()} y tengo {info_personal[6]} años de experiencia profesional.\")\n"
      ],
      "metadata": {
        "colab": {
          "base_uri": "https://localhost:8080/"
        },
        "id": "0xWkqsRR8azc",
        "outputId": "61c6d7c0-d702-4d4a-e80e-773f98b35ea3"
      },
      "execution_count": null,
      "outputs": [
        {
          "output_type": "stream",
          "name": "stdout",
          "text": [
            "La lista info_personal tiene los siguientes elementos \n",
            "['david', 'allende', 'estadístico', 37, 'google', 13]\n",
            "Hola me llamo David Allende soy Estadístico, estudié en la institución UNALM, tengo 37 años, trabajo en la empresa Google y tengo 13 años de experiencia profesional.\n"
          ]
        }
      ]
    },
    {
      "cell_type": "markdown",
      "source": [
        "## [7] Remover los elementos de una lista"
      ],
      "metadata": {
        "id": "s2icJ_8C8scH"
      }
    },
    {
      "cell_type": "markdown",
      "source": [
        "### Método del"
      ],
      "metadata": {
        "id": "Oc8L61Ao9Vyt"
      }
    },
    {
      "cell_type": "code",
      "source": [
        "print(f\"La lista materias es \\n{materias}\")\n",
        "del materias[3]\n",
        "print(f\"La lista actualizada es \\n{materias}\")"
      ],
      "metadata": {
        "colab": {
          "base_uri": "https://localhost:8080/"
        },
        "id": "1K-iK1NQ8kEf",
        "outputId": "53d0e889-331e-4239-f5e1-9ccd4dbf7c26"
      },
      "execution_count": null,
      "outputs": [
        {
          "output_type": "stream",
          "name": "stdout",
          "text": [
            "La lista materias es \n",
            "['álgebra', 'filosofía', 'razonamiento verbal', 'física', 'trigonometría', 'geometría', 'química']\n",
            "La lista actualizada es \n",
            "['álgebra', 'filosofía', 'razonamiento verbal', 'trigonometría', 'geometría', 'química']\n"
          ]
        }
      ]
    },
    {
      "cell_type": "code",
      "source": [
        "materias[3:5]"
      ],
      "metadata": {
        "colab": {
          "base_uri": "https://localhost:8080/"
        },
        "id": "-tsrQb1qhL7r",
        "outputId": "c6a6b692-97df-49f9-8935-309742d499cc"
      },
      "execution_count": null,
      "outputs": [
        {
          "output_type": "execute_result",
          "data": {
            "text/plain": [
              "['trigonometría', 'geometría']"
            ]
          },
          "metadata": {},
          "execution_count": 119
        }
      ]
    },
    {
      "cell_type": "markdown",
      "source": [
        "### Actividad N009"
      ],
      "metadata": {
        "id": "VFggpdYt9MR4"
      }
    },
    {
      "cell_type": "code",
      "source": [
        "## SOLUCIÓN ACTIVIDAD N009\n",
        "print(f\"La lista marcas contiene los siguientes elementos \\n{marcas}\")\n",
        "del marcas[2]\n",
        "print(f\"La lista marcas (actualizada) contiene los siguientes elementos \\n{marcas}\")"
      ],
      "metadata": {
        "colab": {
          "base_uri": "https://localhost:8080/"
        },
        "id": "2j90g_Ct9Itc",
        "outputId": "22b63f5b-1dd3-4062-d762-39a0606e7f59"
      },
      "execution_count": null,
      "outputs": [
        {
          "output_type": "stream",
          "name": "stdout",
          "text": [
            "La lista marcas contiene los siguientes elementos \n",
            "['kuna', 'alpaca 111', 'puna', 'univers']\n",
            "La lista marcas (actualizada) contiene los siguientes elementos \n",
            "['kuna', 'alpaca 111', 'univers']\n"
          ]
        }
      ]
    },
    {
      "cell_type": "markdown",
      "source": [
        "### Método pop"
      ],
      "metadata": {
        "id": "G_-05doA9ckW"
      }
    },
    {
      "cell_type": "code",
      "source": [
        "print(f\"La lista materias es \\n{materias}\")\n",
        "el_exc1 = materias.pop()\n",
        "print(f\"La lista materias actualizada es \\n{materias}\")"
      ],
      "metadata": {
        "colab": {
          "base_uri": "https://localhost:8080/"
        },
        "id": "vzzIn2MP9QQ0",
        "outputId": "3dbdf43e-248d-4d85-b635-f57ee9b99350"
      },
      "execution_count": null,
      "outputs": [
        {
          "output_type": "stream",
          "name": "stdout",
          "text": [
            "La lista materias es \n",
            "['álgebra', 'filosofía', 'razonamiento verbal', 'trigonometría', 'geometría', 'química']\n",
            "La lista materias actualizada es \n",
            "['álgebra', 'filosofía', 'razonamiento verbal', 'trigonometría', 'geometría']\n"
          ]
        }
      ]
    },
    {
      "cell_type": "code",
      "source": [
        "print(f\"El elemento eliminado de la lista materias, ubicado al final de la lista es {el_exc1}\")"
      ],
      "metadata": {
        "colab": {
          "base_uri": "https://localhost:8080/"
        },
        "id": "_dYro6si9qDD",
        "outputId": "a9439e13-6ca3-480a-898b-e47d445ca2e5"
      },
      "execution_count": null,
      "outputs": [
        {
          "output_type": "stream",
          "name": "stdout",
          "text": [
            "El elemento eliminado de la lista materias, ubicado al final de la lista es química\n"
          ]
        }
      ]
    },
    {
      "cell_type": "code",
      "source": [
        "el_exc2 = materias.pop(3)\n",
        "print(f\"El elemento eliminado de la lista materias, ubicado en la cuarta posición es {el_exc2}\")\n",
        "print(f\"La lista materias actualizada es \\n{materias}\")"
      ],
      "metadata": {
        "colab": {
          "base_uri": "https://localhost:8080/"
        },
        "id": "X-w9D9Cf9wsE",
        "outputId": "50c8e48f-b3fd-4d31-c18a-bd12ee55eb82"
      },
      "execution_count": null,
      "outputs": [
        {
          "output_type": "stream",
          "name": "stdout",
          "text": [
            "El elemento eliminado de la lista materias, ubicado en la cuarta posición es trigonometría\n",
            "La lista materias actualizada es \n",
            "['álgebra', 'filosofía', 'razonamiento verbal', 'geometría']\n"
          ]
        }
      ]
    },
    {
      "cell_type": "markdown",
      "source": [
        "### Actividad N010"
      ],
      "metadata": {
        "id": "11c8mjWM-N4m"
      }
    },
    {
      "cell_type": "code",
      "source": [
        "## SOLUCIÓN ACTIVIDAD N010\n",
        "print(f\"La lista lugares contiene los siguientes elementos \\n{lugares}\")\n",
        "el_el1 = lugares.pop(1)\n",
        "el_el2 = lugares.pop()\n",
        "print(f\"\\nEl elemento eliminado de la posición 2 es {el_el1}\")\n",
        "print(f\"\\nEl elemento eliminado de la última posición es {el_el2}\")\n",
        "print(f\"\\nLa lista lugares (actualizada) contiene los siguientes elementos \\n{lugares}\")"
      ],
      "metadata": {
        "colab": {
          "base_uri": "https://localhost:8080/"
        },
        "id": "QhLPByTU-BPb",
        "outputId": "de293b6f-bac4-420b-d3f4-9112c3553911"
      },
      "execution_count": null,
      "outputs": [
        {
          "output_type": "stream",
          "name": "stdout",
          "text": [
            "La lista lugares contiene los siguientes elementos \n",
            "['macchupichu', 'punta sal', 'pastoruri', 'laguna sauce', 'huacachina', 'máncora']\n",
            "\n",
            "El elemento eliminado de la posición 2 es punta sal\n",
            "\n",
            "El elemento eliminado de la última posición es máncora\n",
            "\n",
            "La lista lugares (actualizada) contiene los siguientes elementos \n",
            "['macchupichu', 'pastoruri', 'laguna sauce', 'huacachina']\n"
          ]
        }
      ]
    },
    {
      "cell_type": "markdown",
      "source": [
        "### Método remove\n"
      ],
      "metadata": {
        "id": "GPviXjjh-WZr"
      }
    },
    {
      "cell_type": "code",
      "source": [
        "materias = ['álgebra', 'filosofía', 'razonamiento verbal', 'geometría','geometría']"
      ],
      "metadata": {
        "id": "T2ylnUeGcEBX"
      },
      "execution_count": null,
      "outputs": []
    },
    {
      "cell_type": "code",
      "source": [
        "print(f\"La lista materias es \\n{materias}\")\n",
        "materias.remove('filosofía')\n",
        "print(f\"La lista materias actualizada es \\n{materias}\")"
      ],
      "metadata": {
        "colab": {
          "base_uri": "https://localhost:8080/"
        },
        "id": "tAxqSlE0-SDt",
        "outputId": "1fd8f7ce-9dbd-41bb-fb36-39a0a36ab743"
      },
      "execution_count": null,
      "outputs": [
        {
          "output_type": "stream",
          "name": "stdout",
          "text": [
            "La lista materias es \n",
            "['álgebra', 'filosofía', 'razonamiento verbal', 'geometría', 'geometría']\n",
            "La lista materias actualizada es \n",
            "['álgebra', 'razonamiento verbal', 'geometría', 'geometría']\n"
          ]
        }
      ]
    },
    {
      "cell_type": "code",
      "source": [
        "materias.remove('geometría')\n",
        "print(f\"La lista materias actualizada es \\n{materias}\")"
      ],
      "metadata": {
        "colab": {
          "base_uri": "https://localhost:8080/"
        },
        "id": "nXYSHAuCcd2R",
        "outputId": "308d72c3-bf00-45e1-cea0-a5da2889e878"
      },
      "execution_count": null,
      "outputs": [
        {
          "output_type": "stream",
          "name": "stdout",
          "text": [
            "La lista materias actualizada es \n",
            "['álgebra', 'razonamiento verbal', 'geometría']\n"
          ]
        }
      ]
    },
    {
      "cell_type": "markdown",
      "source": [
        "### Actividad N011"
      ],
      "metadata": {
        "id": "I7nsxzfd-oTV"
      }
    },
    {
      "cell_type": "code",
      "source": [
        "## SOLUCIÓN ACTIVIDAD N011\n",
        "print(f\"Los elementos de la lista marcas son \\n{marcas}\")"
      ],
      "metadata": {
        "colab": {
          "base_uri": "https://localhost:8080/"
        },
        "id": "i3RyrzJw-kCr",
        "outputId": "31ef5ad3-1016-44f0-8447-7b29bfa463a3"
      },
      "execution_count": null,
      "outputs": [
        {
          "output_type": "stream",
          "name": "stdout",
          "text": [
            "Los elementos de la lista marcas son \n",
            "['kuna', 'alpaca 111', 'univers']\n"
          ]
        }
      ]
    },
    {
      "cell_type": "code",
      "source": [
        "#Lista brands\n",
        "brands = [\"Coca Cola\", \"Apple\", \"IBM\", \"McDonalds\"]\n",
        "#Dada la lista marcas, remover el elemento que más usas\n",
        "print(f\"La lista original es \\n{brands}\")\n",
        "brands.remove('Apple')\n",
        "print(f\"La lista actualizada es \\n{brands}\")"
      ],
      "metadata": {
        "colab": {
          "base_uri": "https://localhost:8080/"
        },
        "id": "4hrnC9uJdkRL",
        "outputId": "78525db8-ce64-444e-ceae-856c22e98648"
      },
      "execution_count": null,
      "outputs": [
        {
          "output_type": "stream",
          "name": "stdout",
          "text": [
            "La lista original es \n",
            "['Coca Cola', 'Apple', 'IBM', 'McDonalds']\n",
            "La lista actualizada es \n",
            "['Coca Cola', 'IBM', 'McDonalds']\n"
          ]
        }
      ]
    },
    {
      "cell_type": "markdown",
      "source": [
        "## [8] Ordenar los elementos de una lista"
      ],
      "metadata": {
        "id": "PMOmvQ1O-vz7"
      }
    },
    {
      "cell_type": "markdown",
      "source": [
        "### De manera permanente"
      ],
      "metadata": {
        "id": "2fdlt9Vc_weK"
      }
    },
    {
      "cell_type": "code",
      "source": [
        "print(f\"La lista materias es \\n{materias}\")\n",
        "materias.sort()\n",
        "print(f\"La lista materias actualizada es \\n{materias}\")\n"
      ],
      "metadata": {
        "colab": {
          "base_uri": "https://localhost:8080/"
        },
        "id": "UCivu0jT-ryW",
        "outputId": "9d8b6295-3a61-4b72-963c-e09e72db7a34"
      },
      "execution_count": null,
      "outputs": [
        {
          "output_type": "stream",
          "name": "stdout",
          "text": [
            "La lista materias es \n",
            "['álgebra', 'razonamiento verbal', 'geometría']\n",
            "La lista materias actualizada es \n",
            "['geometría', 'razonamiento verbal', 'álgebra']\n"
          ]
        }
      ]
    },
    {
      "cell_type": "code",
      "source": [
        "materias[-1] = 'algebra'\n",
        "print(f\"La lista materias sin ser ordenada \\n{materias}\")\n",
        "materias.sort()\n",
        "print(f\"La lista materias habiendo sido ordenada \\n{materias}\")"
      ],
      "metadata": {
        "colab": {
          "base_uri": "https://localhost:8080/"
        },
        "id": "2sllM5BnfFpN",
        "outputId": "fa4dffc8-7b67-4be2-ae1b-b73994069740"
      },
      "execution_count": null,
      "outputs": [
        {
          "output_type": "stream",
          "name": "stdout",
          "text": [
            "La lista materias sin ser ordenada \n",
            "['geometría', 'razonamiento verbal', 'algebra']\n",
            "La lista materias habiendo sido ordenada \n",
            "['algebra', 'geometría', 'razonamiento verbal']\n"
          ]
        }
      ]
    },
    {
      "cell_type": "code",
      "source": [
        "print(f\"La lista lugares es \\n{lugares}\")\n",
        "lugares.sort(reverse=True)\n",
        "print(f\"La lista lugares actualizada es \\n{lugares}\")"
      ],
      "metadata": {
        "colab": {
          "base_uri": "https://localhost:8080/"
        },
        "id": "rjkFon3L_Byz",
        "outputId": "128d0764-781a-4d4a-e07c-e5c4051400b5"
      },
      "execution_count": null,
      "outputs": [
        {
          "output_type": "stream",
          "name": "stdout",
          "text": [
            "La lista lugares es \n",
            "['macchupichu', 'pastoruri', 'laguna sauce', 'huacachina']\n",
            "La lista lugares actualizada es \n",
            "['pastoruri', 'macchupichu', 'laguna sauce', 'huacachina']\n"
          ]
        }
      ]
    },
    {
      "cell_type": "markdown",
      "source": [
        "### Actividad N012"
      ],
      "metadata": {
        "id": "jJh7CDJO_s2r"
      }
    },
    {
      "cell_type": "code",
      "source": [
        "## SOLUCIÓN ACTIVIDAD N012\n",
        "paises = [\"Peru\", \"Ecuador\", \"Chile\", \"Bolivia\", \"Argentina\"]\n",
        "print(f\"La lista paises es \\n{paises}\")\n",
        "paises.sort()\n",
        "print(f\"\\nLa lista paises ascendente es \\n{paises}\")\n",
        "paises.sort(reverse=1)\n",
        "print(f\"\\nLa lista paises descendente es \\n{paises}\")"
      ],
      "metadata": {
        "colab": {
          "base_uri": "https://localhost:8080/"
        },
        "id": "vvPtDflm_cNf",
        "outputId": "5dcebc7a-bdf1-4933-df67-2c426200c931"
      },
      "execution_count": null,
      "outputs": [
        {
          "output_type": "stream",
          "name": "stdout",
          "text": [
            "La lista paises es \n",
            "['Peru', 'Ecuador', 'Chile', 'Bolivia', 'Argentina']\n",
            "\n",
            "La lista paises ascendente es \n",
            "['Argentina', 'Bolivia', 'Chile', 'Ecuador', 'Peru']\n",
            "\n",
            "La lista paises descendente es \n",
            "['Peru', 'Ecuador', 'Chile', 'Bolivia', 'Argentina']\n"
          ]
        }
      ]
    },
    {
      "cell_type": "markdown",
      "source": [
        "### De manera temporal"
      ],
      "metadata": {
        "id": "gpQQQ2ZU_6tG"
      }
    },
    {
      "cell_type": "code",
      "source": [
        "print(f\"La lista lugares es \\n{lugares}\")\n",
        "print(f\"\\nLa lista lugares actualizada es \\n{sorted(lugares)}\")\n",
        "print(f\"\\nLa lista lugares es \\n{lugares}\")"
      ],
      "metadata": {
        "colab": {
          "base_uri": "https://localhost:8080/"
        },
        "id": "8V88UcQL_5Qb",
        "outputId": "27d400ed-642f-4e38-f2bc-ea65c268a04b"
      },
      "execution_count": null,
      "outputs": [
        {
          "output_type": "stream",
          "name": "stdout",
          "text": [
            "La lista lugares es \n",
            "['pastoruri', 'macchupichu', 'laguna sauce', 'huacachina']\n",
            "\n",
            "La lista lugares actualizada es \n",
            "['huacachina', 'laguna sauce', 'macchupichu', 'pastoruri']\n",
            "\n",
            "La lista lugares es \n",
            "['pastoruri', 'macchupichu', 'laguna sauce', 'huacachina']\n"
          ]
        }
      ]
    },
    {
      "cell_type": "code",
      "source": [
        "print(f\"La lista brands es \\n{brands}\")\n",
        "print(f\"\\nLa lista lugares actualizada es \\n{sorted(brands,reverse=True)}\")\n",
        "print(f\"\\nLa lista brands es \\n{brands}\")"
      ],
      "metadata": {
        "colab": {
          "base_uri": "https://localhost:8080/"
        },
        "id": "NbIEj-qrAI5R",
        "outputId": "8de9abfb-960f-468e-b503-597227a39fde"
      },
      "execution_count": null,
      "outputs": [
        {
          "output_type": "stream",
          "name": "stdout",
          "text": [
            "La lista brands es \n",
            "['Coca Cola', 'IBM', 'McDonalds']\n",
            "\n",
            "La lista lugares actualizada es \n",
            "['McDonalds', 'IBM', 'Coca Cola']\n",
            "\n",
            "La lista brands es \n",
            "['Coca Cola', 'IBM', 'McDonalds']\n"
          ]
        }
      ]
    },
    {
      "cell_type": "markdown",
      "source": [
        "### Actividad N013"
      ],
      "metadata": {
        "id": "rDQF6aidAYLm"
      }
    },
    {
      "cell_type": "code",
      "source": [
        "## SOLUCIÓN ACTIVIDAD N013\n",
        "print(f\"La lista paises es \\n{paises}\")\n",
        "print(f\"La lista ordenada \\n{sorted(paises)}\")"
      ],
      "metadata": {
        "colab": {
          "base_uri": "https://localhost:8080/"
        },
        "id": "5gUbMvDKAQs2",
        "outputId": "30bed895-e8d1-4c4f-9957-685270911d18"
      },
      "execution_count": null,
      "outputs": [
        {
          "output_type": "stream",
          "name": "stdout",
          "text": [
            "La lista paises es \n",
            "['Peru', 'Ecuador', 'Chile', 'Bolivia', 'Argentina']\n",
            "La lista ordenada \n",
            "['Argentina', 'Bolivia', 'Chile', 'Ecuador', 'Peru']\n"
          ]
        }
      ]
    },
    {
      "cell_type": "markdown",
      "source": [
        "## [9] Invertir los elementos de una lista"
      ],
      "metadata": {
        "id": "TCzgVFc2Adgi"
      }
    },
    {
      "cell_type": "code",
      "source": [
        "print(f\"La lista materias es \\n{materias}\")\n",
        "materias.reverse()\n",
        "print(f\"\\nLa lista materias actualizada es \\n{materias}\")"
      ],
      "metadata": {
        "colab": {
          "base_uri": "https://localhost:8080/"
        },
        "id": "VfMEiCyEAb4e",
        "outputId": "062cf72d-3863-4762-d6b2-7ea8cab12f2f"
      },
      "execution_count": null,
      "outputs": [
        {
          "output_type": "stream",
          "name": "stdout",
          "text": [
            "La lista materias es \n",
            "['algebra', 'geometría', 'razonamiento verbal']\n",
            "\n",
            "La lista materias actualizada es \n",
            "['razonamiento verbal', 'geometría', 'algebra']\n"
          ]
        }
      ]
    },
    {
      "cell_type": "code",
      "source": [
        "materias"
      ],
      "metadata": {
        "colab": {
          "base_uri": "https://localhost:8080/"
        },
        "id": "51lBVsnOjm1z",
        "outputId": "8073864e-b167-4531-b718-bb381492d969"
      },
      "execution_count": null,
      "outputs": [
        {
          "output_type": "execute_result",
          "data": {
            "text/plain": [
              "['razonamiento verbal', 'geometría', 'algebra']"
            ]
          },
          "metadata": {},
          "execution_count": 146
        }
      ]
    },
    {
      "cell_type": "markdown",
      "source": [
        "### Actividad N014"
      ],
      "metadata": {
        "id": "BnpGEyXRAy9X"
      }
    },
    {
      "cell_type": "code",
      "source": [
        "## SOLUCIÓN ACTIVIDAD N014\n",
        "universidades = ['pucp','usil','esan','ulima','usmp','utec']\n",
        "print(f\"La lista universidades es \\n{universidades}\")\n",
        "universidades.reverse()\n",
        "print(f\"\\nLa lista universidades actualizada es \\n{universidades}\")"
      ],
      "metadata": {
        "colab": {
          "base_uri": "https://localhost:8080/"
        },
        "id": "alT3g_kjAu_F",
        "outputId": "86e154bd-511c-4da1-cf20-52921b725ca2"
      },
      "execution_count": null,
      "outputs": [
        {
          "output_type": "stream",
          "name": "stdout",
          "text": [
            "La lista universidades es \n",
            "['pucp', 'usil', 'esan', 'ulima', 'usmp', 'utec']\n",
            "\n",
            "La lista universidades actualizada es \n",
            "['utec', 'usmp', 'ulima', 'esan', 'usil', 'pucp']\n"
          ]
        }
      ]
    },
    {
      "cell_type": "markdown",
      "source": [
        "## [10] Cuantificar los elementos de una lista"
      ],
      "metadata": {
        "id": "sQVSPLHcA53H"
      }
    },
    {
      "cell_type": "code",
      "source": [
        "print(f\"La lista lugares es \\n{lugares}\")\n",
        "print(f\"\\nLa cantidad de elementos de la lista lugares es {len(lugares)}\")"
      ],
      "metadata": {
        "colab": {
          "base_uri": "https://localhost:8080/"
        },
        "id": "yW0-j-EaA4E0",
        "outputId": "94562172-c33f-4fa8-e52a-9fcb2989641e"
      },
      "execution_count": null,
      "outputs": [
        {
          "output_type": "stream",
          "name": "stdout",
          "text": [
            "La lista lugares es \n",
            "['pastoruri', 'macchupichu', 'laguna sauce', 'huacachina']\n",
            "\n",
            "La cantidad de elementos de la lista lugares es 4\n"
          ]
        }
      ]
    },
    {
      "cell_type": "markdown",
      "source": [
        "### Actividad N015"
      ],
      "metadata": {
        "id": "roDrSGHjBI-x"
      }
    },
    {
      "cell_type": "code",
      "source": [
        "## SOLUCIÓN ACTIVIDAD N015\n",
        "# Cuantificar los elementos de info_personal\n",
        "print(f\"La lista info_personal es \\n{info_personal}\")\n",
        "print(f\"\\nLa cantidad de elementos de la lista info_personal es {len(info_personal)}\")"
      ],
      "metadata": {
        "colab": {
          "base_uri": "https://localhost:8080/"
        },
        "id": "wXYtA8HzBG-6",
        "outputId": "2ab24bbf-2f95-4c6c-838c-9c235512627e"
      },
      "execution_count": null,
      "outputs": [
        {
          "output_type": "stream",
          "name": "stdout",
          "text": [
            "La lista info_personal es \n",
            "['david', 'allende', 'estadístico', 37, 'unalm', 'google', 13]\n",
            "\n",
            "La cantidad de elementos de la lista info_personal es 7\n"
          ]
        }
      ]
    },
    {
      "cell_type": "code",
      "source": [],
      "metadata": {
        "id": "izy_t_MQBNny"
      },
      "execution_count": null,
      "outputs": []
    }
  ]
}