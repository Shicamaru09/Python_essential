{
  "nbformat": 4,
  "nbformat_minor": 0,
  "metadata": {
    "colab": {
      "provenance": [],
      "include_colab_link": true
    },
    "kernelspec": {
      "name": "python3",
      "display_name": "Python 3"
    },
    "language_info": {
      "name": "python"
    }
  },
  "cells": [
    {
      "cell_type": "markdown",
      "metadata": {
        "id": "view-in-github",
        "colab_type": "text"
      },
      "source": [
        "<a href=\"https://colab.research.google.com/github/Shicamaru09/Python_essential/blob/main/M%C3%93DULO%202%3A%20ESTRUCTURAS%20DE%20DATOS%20SECUENCIALES/Clase12_Listas_y_Tuplas_II.ipynb\" target=\"_parent\"><img src=\"https://colab.research.google.com/assets/colab-badge.svg\" alt=\"Open In Colab\"/></a>"
      ]
    },
    {
      "cell_type": "markdown",
      "source": [
        "## [1] Recorrer una lista en Python"
      ],
      "metadata": {
        "id": "MD4emPFaL0p6"
      }
    },
    {
      "cell_type": "code",
      "execution_count": null,
      "metadata": {
        "id": "D8mSGH6KLL_l"
      },
      "outputs": [],
      "source": [
        "librerias = ['numpy','pandas','scipy','matplotlib','scikit learn']"
      ]
    },
    {
      "cell_type": "code",
      "source": [
        "print(f\"Los elementos de la lista librerias son \\n{librerias}\")"
      ],
      "metadata": {
        "colab": {
          "base_uri": "https://localhost:8080/"
        },
        "id": "oHnqo8bEL3JP",
        "outputId": "2f2c760b-1ae1-4f6f-ef09-9e38f912c105"
      },
      "execution_count": null,
      "outputs": [
        {
          "output_type": "stream",
          "name": "stdout",
          "text": [
            "Los elementos de la lista librerias son \n",
            "['numpy', 'pandas', 'scipy', 'matplotlib', 'scikit learn']\n"
          ]
        }
      ]
    },
    {
      "cell_type": "code",
      "source": [
        "type(librerias)"
      ],
      "metadata": {
        "colab": {
          "base_uri": "https://localhost:8080/"
        },
        "id": "Psqhco3ashR0",
        "outputId": "3c56c285-79a3-4d24-c287-eef5631587c1"
      },
      "execution_count": null,
      "outputs": [
        {
          "output_type": "execute_result",
          "data": {
            "text/plain": [
              "list"
            ]
          },
          "metadata": {},
          "execution_count": 50
        }
      ]
    },
    {
      "cell_type": "code",
      "source": [
        "for libreria in librerias:\n",
        "  print(libreria)"
      ],
      "metadata": {
        "colab": {
          "base_uri": "https://localhost:8080/"
        },
        "id": "2M0sHbWgMHN7",
        "outputId": "3731560d-1cd1-46c7-94e4-f6c82c98f5a3"
      },
      "execution_count": null,
      "outputs": [
        {
          "output_type": "stream",
          "name": "stdout",
          "text": [
            "numpy\n",
            "pandas\n",
            "scipy\n",
            "matplotlib\n",
            "scikit learn\n"
          ]
        }
      ]
    },
    {
      "cell_type": "markdown",
      "source": [
        "### Actividad N016"
      ],
      "metadata": {
        "id": "R8ZIY17-MQqA"
      }
    },
    {
      "cell_type": "code",
      "source": [
        "## SOLUCIÓN ACTIVIDAD N016\n",
        "\n",
        "productos = [\"Arroz\", \"Leche\", \"Pan\", \"Huevos\", \"Frutas\"]\n",
        "\n",
        "print(\"Mi lista de compra habitual en el supermercado es:\")\n",
        "for producto in productos:\n",
        "    print(producto)"
      ],
      "metadata": {
        "colab": {
          "base_uri": "https://localhost:8080/"
        },
        "id": "8M9HBSKOMLgH",
        "outputId": "f38540b5-2aa1-444b-ea85-1e7f34e0647f"
      },
      "execution_count": null,
      "outputs": [
        {
          "output_type": "stream",
          "name": "stdout",
          "text": [
            "Mi lista de compra habitual en el supermercado es:\n",
            "Arroz\n",
            "Leche\n",
            "Pan\n",
            "Huevos\n",
            "Frutas\n"
          ]
        }
      ]
    },
    {
      "cell_type": "markdown",
      "source": [
        "## [2] Realizar una acción después del bucle"
      ],
      "metadata": {
        "id": "mI8P28IGMe5e"
      }
    },
    {
      "cell_type": "code",
      "source": [
        "productos = ['aceite','arroz','agua','carne','pollo']"
      ],
      "metadata": {
        "id": "Ubh6rpUnMaYT"
      },
      "execution_count": null,
      "outputs": []
    },
    {
      "cell_type": "code",
      "source": [
        "print(\"Mi lista habitual en el supermercado es\")\n",
        "for producto in productos:\n",
        "  print('-',producto)\n",
        "print(\"Mi presupuesto principalmente se basa en esta lista\")"
      ],
      "metadata": {
        "colab": {
          "base_uri": "https://localhost:8080/"
        },
        "id": "3jqWsTTVMvj4",
        "outputId": "0f53391e-08dc-4e33-dcc0-67e87cc234da"
      },
      "execution_count": null,
      "outputs": [
        {
          "output_type": "stream",
          "name": "stdout",
          "text": [
            "Mi lista habitual en el supermercado es\n",
            "- Arroz\n",
            "- Leche\n",
            "- Pan\n",
            "- Huevos\n",
            "- Frutas\n",
            "Mi presupuesto principalmente se basa en esta lista\n"
          ]
        }
      ]
    },
    {
      "cell_type": "markdown",
      "source": [
        "### Actividad N017"
      ],
      "metadata": {
        "id": "aW6MbEPqNGZe"
      }
    },
    {
      "cell_type": "code",
      "source": [
        "## SOLUCIÓN DE ACTIVIDAD N017\n",
        "print(\"Las librerías más usadas en Python son:\")\n",
        "for libreria in librerias:\n",
        "  print('-',libreria)\n",
        "print(\"Tengo experiencia profesional trabajando con todas ellas\")"
      ],
      "metadata": {
        "colab": {
          "base_uri": "https://localhost:8080/"
        },
        "id": "2mWHMqd9M_5c",
        "outputId": "a9e5f973-6678-4ca9-fc9a-46c1c67de4a7"
      },
      "execution_count": null,
      "outputs": [
        {
          "output_type": "stream",
          "name": "stdout",
          "text": [
            "Las librerías más usadas en Python son:\n",
            "- numpy\n",
            "- pandas\n",
            "- scipy\n",
            "- matplotlib\n",
            "- scikit learn\n",
            "Tengo experiencia profesional trabajando con todas ellas\n"
          ]
        }
      ]
    },
    {
      "cell_type": "markdown",
      "source": [
        "## [3] Problemas con identación y dos puntos"
      ],
      "metadata": {
        "id": "IZVy2ddcNULO"
      }
    },
    {
      "cell_type": "markdown",
      "source": [
        "### Olvidamos la identación"
      ],
      "metadata": {
        "id": "A_88Du1_NpC5"
      }
    },
    {
      "cell_type": "code",
      "source": [
        "print(\"En Python las librerías más populares son\")\n",
        "for libreria in librerias:\n",
        "print(\"-\",libreria)"
      ],
      "metadata": {
        "colab": {
          "base_uri": "https://localhost:8080/",
          "height": 108
        },
        "id": "tbJzYa-7NONP",
        "outputId": "b3b78bb2-86c4-4e35-a251-ba0820b6b422"
      },
      "execution_count": null,
      "outputs": [
        {
          "output_type": "error",
          "ename": "IndentationError",
          "evalue": "expected an indented block after 'for' statement on line 2 (<ipython-input-55-a6bc1d6d471e>, line 3)",
          "traceback": [
            "\u001b[0;36m  File \u001b[0;32m\"<ipython-input-55-a6bc1d6d471e>\"\u001b[0;36m, line \u001b[0;32m3\u001b[0m\n\u001b[0;31m    print(\"-\",libreria)\u001b[0m\n\u001b[0m    ^\u001b[0m\n\u001b[0;31mIndentationError\u001b[0m\u001b[0;31m:\u001b[0m expected an indented block after 'for' statement on line 2\n"
          ]
        }
      ]
    },
    {
      "cell_type": "markdown",
      "source": [
        "### Usamos la identación de manera innecesaria"
      ],
      "metadata": {
        "id": "OPt53QvUNtIZ"
      }
    },
    {
      "cell_type": "code",
      "source": [
        "print(\"En Python las librerías más populares son\")\n",
        "for libreria in librerias:\n",
        "  print(\"-\",libreria)\n",
        "  print(\"Tengo experiencia profesional trabajando con todas ellas\")"
      ],
      "metadata": {
        "colab": {
          "base_uri": "https://localhost:8080/"
        },
        "id": "OUHG8ch-NhzH",
        "outputId": "b7c709d8-2f1c-4e51-a3bf-10aa2405ef0e"
      },
      "execution_count": null,
      "outputs": [
        {
          "output_type": "stream",
          "name": "stdout",
          "text": [
            "En Python las librerías más populares son\n",
            "- numpy\n",
            "Tengo experiencia profesional trabajando con todas ellas\n",
            "- pandas\n",
            "Tengo experiencia profesional trabajando con todas ellas\n",
            "- scipy\n",
            "Tengo experiencia profesional trabajando con todas ellas\n",
            "- matplotlib\n",
            "Tengo experiencia profesional trabajando con todas ellas\n",
            "- scikit learn\n",
            "Tengo experiencia profesional trabajando con todas ellas\n"
          ]
        }
      ]
    },
    {
      "cell_type": "markdown",
      "source": [
        "### Olvidamos los dos puntos"
      ],
      "metadata": {
        "id": "kE584601OE7l"
      }
    },
    {
      "cell_type": "code",
      "source": [
        "print(\"En Python las librerías más populares son\")\n",
        "for libreria in librerias\n",
        "  print(\"-\",libreria)\n",
        "print(\"Tengo experiencia profesional trabajando con todas ellas\")"
      ],
      "metadata": {
        "colab": {
          "base_uri": "https://localhost:8080/",
          "height": 108
        },
        "id": "u5lNRDnJN5wm",
        "outputId": "28dd6f19-f909-43ee-ed03-144817c70971"
      },
      "execution_count": null,
      "outputs": [
        {
          "output_type": "error",
          "ename": "SyntaxError",
          "evalue": "expected ':' (<ipython-input-57-70d9aa6ab298>, line 2)",
          "traceback": [
            "\u001b[0;36m  File \u001b[0;32m\"<ipython-input-57-70d9aa6ab298>\"\u001b[0;36m, line \u001b[0;32m2\u001b[0m\n\u001b[0;31m    for libreria in librerias\u001b[0m\n\u001b[0m                             ^\u001b[0m\n\u001b[0;31mSyntaxError\u001b[0m\u001b[0;31m:\u001b[0m expected ':'\n"
          ]
        }
      ]
    },
    {
      "cell_type": "markdown",
      "source": [
        "### Actividad N018"
      ],
      "metadata": {
        "id": "zn72L7ycOStz"
      }
    },
    {
      "cell_type": "code",
      "source": [
        "## SOLUCIÓN ACTIVIDAD N018\n",
        "paises = [\"Noruega\", \"Italia\", \"España\", \"Francia\"]\n",
        "print(\"Los paises que me gustaría conocer son:\")\n",
        "for pais in paises:\n",
        "  print('-',pais)\n",
        "print(\"Estos paises se caracterizan por sus bellos paisajes\")"
      ],
      "metadata": {
        "colab": {
          "base_uri": "https://localhost:8080/"
        },
        "id": "7Onf7aj0OUWW",
        "outputId": "38161cba-7d42-45ec-fef6-4173c0de8d1d"
      },
      "execution_count": null,
      "outputs": [
        {
          "output_type": "stream",
          "name": "stdout",
          "text": [
            "Los paises que me gustaría conocer son:\n",
            "- Noruega\n",
            "- Italia\n",
            "- España\n",
            "- Francia\n",
            "Estos paises se caracterizan por sus bellos paisajes\n"
          ]
        }
      ]
    },
    {
      "cell_type": "markdown",
      "source": [
        "## [2] Función RANGE"
      ],
      "metadata": {
        "id": "p0MaGjRGOZgU"
      }
    },
    {
      "cell_type": "code",
      "source": [
        "range(1,5)"
      ],
      "metadata": {
        "colab": {
          "base_uri": "https://localhost:8080/"
        },
        "id": "Q8VFXc-AOXm5",
        "outputId": "e29fc611-f9f3-405f-d7b8-78036e8e4c0d"
      },
      "execution_count": null,
      "outputs": [
        {
          "output_type": "execute_result",
          "data": {
            "text/plain": [
              "range(1, 5)"
            ]
          },
          "metadata": {},
          "execution_count": 59
        }
      ]
    },
    {
      "cell_type": "code",
      "source": [
        "for valor in range(1,5):\n",
        "  print(valor)"
      ],
      "metadata": {
        "colab": {
          "base_uri": "https://localhost:8080/"
        },
        "id": "W1KbWORTOgo9",
        "outputId": "0a0ad1e0-2e37-4277-e8b9-56e9405c2f19"
      },
      "execution_count": null,
      "outputs": [
        {
          "output_type": "stream",
          "name": "stdout",
          "text": [
            "1\n",
            "2\n",
            "3\n",
            "4\n"
          ]
        }
      ]
    },
    {
      "cell_type": "markdown",
      "source": [
        "## [3] Crear una lista usando la función RANGE"
      ],
      "metadata": {
        "id": "qjKgyikIOqWQ"
      }
    },
    {
      "cell_type": "code",
      "source": [
        "numeros = list(range(1,11))"
      ],
      "metadata": {
        "id": "BJ9nwe27Oj8t"
      },
      "execution_count": null,
      "outputs": []
    },
    {
      "cell_type": "code",
      "source": [
        "print(f\"La lista numeros contiene los siguientes elementos \\n{numeros}\")"
      ],
      "metadata": {
        "colab": {
          "base_uri": "https://localhost:8080/"
        },
        "id": "NoBvB3ddO9WL",
        "outputId": "36d448dc-a1a5-4dc6-b9da-46f721f8a705"
      },
      "execution_count": null,
      "outputs": [
        {
          "output_type": "stream",
          "name": "stdout",
          "text": [
            "La lista numeros contiene los siguientes elementos \n",
            "[1, 2, 3, 4, 5, 6, 7, 8, 9, 10]\n"
          ]
        }
      ]
    },
    {
      "cell_type": "code",
      "source": [
        "type(numeros)"
      ],
      "metadata": {
        "colab": {
          "base_uri": "https://localhost:8080/"
        },
        "id": "NMfmCSRWPDFA",
        "outputId": "a226f331-1169-4403-c9f0-d7c2165a6d5d"
      },
      "execution_count": null,
      "outputs": [
        {
          "output_type": "execute_result",
          "data": {
            "text/plain": [
              "list"
            ]
          },
          "metadata": {},
          "execution_count": 63
        }
      ]
    },
    {
      "cell_type": "code",
      "source": [
        "for valor in numeros:\n",
        "  print(valor)"
      ],
      "metadata": {
        "colab": {
          "base_uri": "https://localhost:8080/"
        },
        "id": "R7a7UfsqzsGY",
        "outputId": "9a60a391-6e6a-4a3f-c8b8-cd09d3e0ddc4"
      },
      "execution_count": null,
      "outputs": [
        {
          "output_type": "stream",
          "name": "stdout",
          "text": [
            "1\n",
            "2\n",
            "3\n",
            "4\n",
            "5\n",
            "6\n",
            "7\n",
            "8\n",
            "9\n",
            "10\n"
          ]
        }
      ]
    },
    {
      "cell_type": "markdown",
      "source": [
        "### Actividad N019"
      ],
      "metadata": {
        "id": "4CdtcPKoPIQv"
      }
    },
    {
      "cell_type": "code",
      "source": [
        "## SOLUCIÓN ACTIVIDAD N019\n",
        "\n",
        "#print(f\"La lista numeros contiene los siguientes elementos \\n{numeros}\")\n",
        "for valor in range(10,21):\n",
        "  print(valor)"
      ],
      "metadata": {
        "colab": {
          "base_uri": "https://localhost:8080/"
        },
        "id": "3diMOYkBPHGp",
        "outputId": "d14b3d23-d3e2-4abd-c889-e48990912ecd"
      },
      "execution_count": null,
      "outputs": [
        {
          "output_type": "stream",
          "name": "stdout",
          "text": [
            "10\n",
            "11\n",
            "12\n",
            "13\n",
            "14\n",
            "15\n",
            "16\n",
            "17\n",
            "18\n",
            "19\n",
            "20\n"
          ]
        }
      ]
    },
    {
      "cell_type": "code",
      "source": [
        "correlativos = list(range(10,21))\n",
        "print(f\"La lista numeros contiene los siguientes elementos \\n{correlativos}\")\n",
        "# Mostrar todos los elemento de la lista\n",
        "print(\"Acceder a los elementos de la lista a través de un bucle\")\n",
        "for valor in correlativos:\n",
        "  print(valor)"
      ],
      "metadata": {
        "colab": {
          "base_uri": "https://localhost:8080/"
        },
        "id": "D8QqA44I0z4l",
        "outputId": "0f6118af-e334-41bd-dd04-f4d7834c7cf5"
      },
      "execution_count": null,
      "outputs": [
        {
          "output_type": "stream",
          "name": "stdout",
          "text": [
            "La lista numeros contiene los siguientes elementos \n",
            "[10, 11, 12, 13, 14, 15, 16, 17, 18, 19, 20]\n",
            "Acceder a los elementos de la lista a través de un bucle\n",
            "10\n",
            "11\n",
            "12\n",
            "13\n",
            "14\n",
            "15\n",
            "16\n",
            "17\n",
            "18\n",
            "19\n",
            "20\n"
          ]
        }
      ]
    },
    {
      "cell_type": "code",
      "source": [
        "pares = list(range(2,22,2))"
      ],
      "metadata": {
        "id": "ndqZ8ReMPPYA"
      },
      "execution_count": null,
      "outputs": []
    },
    {
      "cell_type": "code",
      "source": [
        "print(f\"La lista pares contiene los elementos \\n{pares}\")"
      ],
      "metadata": {
        "colab": {
          "base_uri": "https://localhost:8080/"
        },
        "id": "t0jzzsXfPY8b",
        "outputId": "1f0fd02a-7e87-494f-b510-e08404580321"
      },
      "execution_count": null,
      "outputs": [
        {
          "output_type": "stream",
          "name": "stdout",
          "text": [
            "La lista pares contiene los elementos \n",
            "[2, 4, 6, 8, 10, 12, 14, 16, 18, 20]\n"
          ]
        }
      ]
    },
    {
      "cell_type": "code",
      "source": [
        "type(pares)"
      ],
      "metadata": {
        "colab": {
          "base_uri": "https://localhost:8080/"
        },
        "id": "McsS_5fWPcq2",
        "outputId": "7fed29a7-09cf-4c50-84d0-ceb0eb0dab51"
      },
      "execution_count": null,
      "outputs": [
        {
          "output_type": "execute_result",
          "data": {
            "text/plain": [
              "list"
            ]
          },
          "metadata": {},
          "execution_count": 3
        }
      ]
    },
    {
      "cell_type": "markdown",
      "source": [
        "## [4] Crear una lista en función de otra lista"
      ],
      "metadata": {
        "id": "kjTuXQfbPiyW"
      }
    },
    {
      "cell_type": "code",
      "source": [
        "cuadrados = [] # lista vacía\n",
        "for par in pares:\n",
        "  cuadrado = par**2\n",
        "  cuadrados.append(cuadrado)\n",
        "print(f\"La lista pares contiene los elementos \\n{pares}\")\n",
        "print(f\"\\nLa lista cuadrados contiene los elementos \\n{cuadrados}\")"
      ],
      "metadata": {
        "colab": {
          "base_uri": "https://localhost:8080/"
        },
        "id": "zYuLtoPCPfRa",
        "outputId": "0bd4f6ad-871e-42af-df16-8db7c7e62de6"
      },
      "execution_count": null,
      "outputs": [
        {
          "output_type": "stream",
          "name": "stdout",
          "text": [
            "La lista pares contiene los elementos \n",
            "[2, 4, 6, 8, 10, 12, 14, 16, 18, 20]\n",
            "\n",
            "La lista cuadrados contiene los elementos \n",
            "[4, 16, 36, 64, 100, 144, 196, 256, 324, 400]\n"
          ]
        }
      ]
    },
    {
      "cell_type": "markdown",
      "source": [
        "## [5] Calcular estadísticas a partir de una lista"
      ],
      "metadata": {
        "id": "L6H83fgtQJva"
      }
    },
    {
      "cell_type": "code",
      "source": [
        "print(f\"El valor mínimo de la lista cuadrados es {min(cuadrados)}\")"
      ],
      "metadata": {
        "colab": {
          "base_uri": "https://localhost:8080/"
        },
        "id": "FjefhDc3P1Lz",
        "outputId": "01fb028c-01c6-4de3-c7e4-2135e33e19c5"
      },
      "execution_count": null,
      "outputs": [
        {
          "output_type": "stream",
          "name": "stdout",
          "text": [
            "El valor mínimo de la lista cuadrados es 4\n"
          ]
        }
      ]
    },
    {
      "cell_type": "code",
      "source": [
        "print(f\"El valor máximo de la lista cuadrados es {max(cuadrados)}\")"
      ],
      "metadata": {
        "colab": {
          "base_uri": "https://localhost:8080/"
        },
        "id": "h2Q8zEjCQUF4",
        "outputId": "67019c84-59a5-4dd2-8de1-ab5972b09c45"
      },
      "execution_count": null,
      "outputs": [
        {
          "output_type": "stream",
          "name": "stdout",
          "text": [
            "El valor máximo de la lista cuadrados es 400\n"
          ]
        }
      ]
    },
    {
      "cell_type": "code",
      "source": [
        "print(f\"La suma de los valores de la lista cuadrados es {sum(cuadrados)}\")"
      ],
      "metadata": {
        "colab": {
          "base_uri": "https://localhost:8080/"
        },
        "id": "RQmQj9xuQW9m",
        "outputId": "b935eca1-737b-4789-f2ba-3145bbb00b6d"
      },
      "execution_count": null,
      "outputs": [
        {
          "output_type": "stream",
          "name": "stdout",
          "text": [
            "La suma de los valores de la lista cuadrados es 1540\n"
          ]
        }
      ]
    },
    {
      "cell_type": "code",
      "source": [
        "print(f\"El promedio de los valores de la lista cuadrados es {sum(cuadrados)/len(cuadrados)}\")"
      ],
      "metadata": {
        "colab": {
          "base_uri": "https://localhost:8080/"
        },
        "id": "Nv2IMNtMQbaR",
        "outputId": "3f5fd461-69ba-4a24-edd3-20d007916df5"
      },
      "execution_count": null,
      "outputs": [
        {
          "output_type": "stream",
          "name": "stdout",
          "text": [
            "El promedio de los valores de la lista cuadrados es 154.0\n"
          ]
        }
      ]
    },
    {
      "cell_type": "markdown",
      "source": [
        "## [6] Comprensión de listas"
      ],
      "metadata": {
        "id": "M5GhhcB2QqaS"
      }
    },
    {
      "cell_type": "code",
      "source": [
        "cuadrados_ = [par**2 for par in pares]"
      ],
      "metadata": {
        "id": "yILWEw6hQjO3"
      },
      "execution_count": null,
      "outputs": []
    },
    {
      "cell_type": "code",
      "source": [
        "print(f\"La lista pares contiene los elementos \\n{pares}\")\n",
        "print(f\"\\nLa lista cuadrados contiene los elementos \\n{cuadrados_}\")"
      ],
      "metadata": {
        "id": "4dWHFsmTQ01v",
        "colab": {
          "base_uri": "https://localhost:8080/"
        },
        "outputId": "007ceaad-b54c-4dc5-87ce-3da3238febdb"
      },
      "execution_count": null,
      "outputs": [
        {
          "output_type": "stream",
          "name": "stdout",
          "text": [
            "La lista pares contiene los elementos \n",
            "[2, 4, 6, 8, 10, 12, 14, 16, 18, 20]\n",
            "\n",
            "La lista cuadrados contiene los elementos \n",
            "[4, 16, 36, 64, 100, 144, 196, 256, 324, 400]\n"
          ]
        }
      ]
    },
    {
      "cell_type": "markdown",
      "source": [
        "### Actividad N020"
      ],
      "metadata": {
        "id": "c0IKdY8qRFtw"
      }
    },
    {
      "cell_type": "markdown",
      "source": [
        "Crear una lista de valores numéricos que sean correlativos, inicien en 10 y acaben en 20 (correlativos)."
      ],
      "metadata": {
        "id": "g8kO8QOdOm2J"
      }
    },
    {
      "cell_type": "code",
      "source": [
        "correlativos = list(range(10, 21))\n",
        "print(f\"La lista correlativos contiene los elementos \\n{correlativos}\")"
      ],
      "metadata": {
        "id": "zY7Z2YCUQ9p9",
        "colab": {
          "base_uri": "https://localhost:8080/"
        },
        "outputId": "31311c15-2335-4cf0-db3e-b1873e4344dd"
      },
      "execution_count": null,
      "outputs": [
        {
          "output_type": "stream",
          "name": "stdout",
          "text": [
            "La lista correlativos contiene los elementos \n",
            "[10, 11, 12, 13, 14, 15, 16, 17, 18, 19, 20]\n"
          ]
        }
      ]
    },
    {
      "cell_type": "markdown",
      "source": [
        "A cada valor de la lista (correlativos) sumarle 5 y almacenarlo en otra lista llamada **correlativosn**, mostrar los resultados en pantalla, use comprensión de listas"
      ],
      "metadata": {
        "id": "77otqFxXOxcG"
      }
    },
    {
      "cell_type": "code",
      "source": [
        "# Sin comprensión\n",
        "correlativosn = []\n",
        "for correlativo in correlativos:\n",
        "  tmp = correlativo + 5\n",
        "  correlativosn.append(tmp)\n",
        "print(f\"La lista correlativosn contiene los elementos \\n{correlativosn}\")"
      ],
      "metadata": {
        "colab": {
          "base_uri": "https://localhost:8080/"
        },
        "id": "d36Dnb7JQAcP",
        "outputId": "d8a530a4-30f0-4b3a-ba8d-585f1ef52cec"
      },
      "execution_count": null,
      "outputs": [
        {
          "output_type": "stream",
          "name": "stdout",
          "text": [
            "La lista correlativosn contiene los elementos \n",
            "[15, 16, 17, 18, 19, 20, 21, 22, 23, 24, 25]\n"
          ]
        }
      ]
    },
    {
      "cell_type": "code",
      "source": [
        "# Con comprensión\n",
        "correlativosn_ = [correlativo + 5 for correlativo in correlativos]\n",
        "print(f\"La lista correlativosn contiene los elementos \\n{correlativosn_}\")"
      ],
      "metadata": {
        "colab": {
          "base_uri": "https://localhost:8080/"
        },
        "id": "BgAFiXh9Q6fH",
        "outputId": "3645c7fe-dc86-4f77-c1b8-01e8c691dac5"
      },
      "execution_count": null,
      "outputs": [
        {
          "output_type": "stream",
          "name": "stdout",
          "text": [
            "La lista correlativosn contiene los elementos \n",
            "[15, 16, 17, 18, 19, 20, 21, 22, 23, 24, 25]\n"
          ]
        }
      ]
    },
    {
      "cell_type": "markdown",
      "source": [
        "## [7] Acceder a más de un elemento de la lista"
      ],
      "metadata": {
        "id": "NRl9ZEmZRMyj"
      }
    },
    {
      "cell_type": "code",
      "source": [
        "print(f\"Los elementos de la lista librerias son \\n{librerias}\")"
      ],
      "metadata": {
        "id": "ooOaZzSlRJx4",
        "colab": {
          "base_uri": "https://localhost:8080/"
        },
        "outputId": "bd7bd3da-e27b-4077-ab66-e48c65b7724e"
      },
      "execution_count": null,
      "outputs": [
        {
          "output_type": "stream",
          "name": "stdout",
          "text": [
            "Los elementos de la lista librerias son \n",
            "['numpy', 'pandas', 'scipy', 'matplotlib', 'scikit learn']\n"
          ]
        }
      ]
    },
    {
      "cell_type": "code",
      "source": [
        "librerias[1:3]"
      ],
      "metadata": {
        "id": "C4uMCrKmRX07",
        "colab": {
          "base_uri": "https://localhost:8080/"
        },
        "outputId": "ba5421f2-8451-48f2-f64f-88915b2acf65"
      },
      "execution_count": null,
      "outputs": [
        {
          "output_type": "execute_result",
          "data": {
            "text/plain": [
              "['pandas', 'scipy']"
            ]
          },
          "metadata": {},
          "execution_count": 18
        }
      ]
    },
    {
      "cell_type": "code",
      "source": [
        "librerias[0:3]"
      ],
      "metadata": {
        "id": "6LpdSmUVRefl",
        "colab": {
          "base_uri": "https://localhost:8080/"
        },
        "outputId": "5dfc1fcb-f003-4560-f274-ac7ae0b6c237"
      },
      "execution_count": null,
      "outputs": [
        {
          "output_type": "execute_result",
          "data": {
            "text/plain": [
              "['numpy', 'pandas', 'scipy']"
            ]
          },
          "metadata": {},
          "execution_count": 19
        }
      ]
    },
    {
      "cell_type": "code",
      "source": [
        "librerias[:3]"
      ],
      "metadata": {
        "id": "uSJZAu2uRh1H",
        "colab": {
          "base_uri": "https://localhost:8080/"
        },
        "outputId": "c4a79218-6777-4bd4-e4c7-05d5d4814c91"
      },
      "execution_count": null,
      "outputs": [
        {
          "output_type": "execute_result",
          "data": {
            "text/plain": [
              "['numpy', 'pandas', 'scipy']"
            ]
          },
          "metadata": {},
          "execution_count": 20
        }
      ]
    },
    {
      "cell_type": "code",
      "source": [
        "librerias[3:5]"
      ],
      "metadata": {
        "id": "NXjQUYiURjR1",
        "colab": {
          "base_uri": "https://localhost:8080/"
        },
        "outputId": "a70fbe7a-66d5-418c-c1ad-69d8504ee5f6"
      },
      "execution_count": null,
      "outputs": [
        {
          "output_type": "execute_result",
          "data": {
            "text/plain": [
              "['matplotlib', 'scikit learn']"
            ]
          },
          "metadata": {},
          "execution_count": 21
        }
      ]
    },
    {
      "cell_type": "code",
      "source": [
        "librerias[3:]"
      ],
      "metadata": {
        "id": "OOzBP1nbRnPW",
        "colab": {
          "base_uri": "https://localhost:8080/"
        },
        "outputId": "b65af919-924c-440d-eb02-d8d5db066d71"
      },
      "execution_count": null,
      "outputs": [
        {
          "output_type": "execute_result",
          "data": {
            "text/plain": [
              "['matplotlib', 'scikit learn']"
            ]
          },
          "metadata": {},
          "execution_count": 22
        }
      ]
    },
    {
      "cell_type": "markdown",
      "source": [
        "### Actividad N021"
      ],
      "metadata": {
        "id": "PiGCrXKRRuCc"
      }
    },
    {
      "cell_type": "code",
      "source": [
        "## SOLUCIÓN ACTIVIDAD N021\n",
        "universidades = ['UBA', 'San Andrés', 'Austral', 'Belgrano', 'Maimonides']\n",
        "print(f\"Los elementos de la lista universidades son \\n{universidades}\")"
      ],
      "metadata": {
        "id": "M-J8B0Z6Rpb0",
        "colab": {
          "base_uri": "https://localhost:8080/"
        },
        "outputId": "8d602d95-d9f7-47ce-efe9-c6c64a362491"
      },
      "execution_count": null,
      "outputs": [
        {
          "output_type": "stream",
          "name": "stdout",
          "text": [
            "Los elementos de la lista universidades son \n",
            "['UBA', 'San Andrés', 'Austral', 'Belgrano', 'Maimonides']\n"
          ]
        }
      ]
    },
    {
      "cell_type": "code",
      "source": [
        "print(f\"Las universidades elegidas son \\n{universidades[2:]}\")"
      ],
      "metadata": {
        "colab": {
          "base_uri": "https://localhost:8080/"
        },
        "id": "R-FkzqZ2UsSf",
        "outputId": "d0fd81c5-c214-4a12-dfa9-0c9831108d02"
      },
      "execution_count": null,
      "outputs": [
        {
          "output_type": "stream",
          "name": "stdout",
          "text": [
            "Las universidades elegidas son \n",
            "['Austral', 'Belgrano', 'Maimonides']\n"
          ]
        }
      ]
    },
    {
      "cell_type": "code",
      "source": [
        "universidades=[\"UNI\", \"San Marcos\", \"UPC\", \"Catolica\", \"Cesar Vallejo\", \"UTEC\",\"Agraria\",\"Trujillo\"]\n",
        "print(f\"Los elementos de la lista universidades son \\n{universidades}\")\n",
        "print(len(universidades))\n",
        "universidades[len(universidades)-3:]"
      ],
      "metadata": {
        "colab": {
          "base_uri": "https://localhost:8080/"
        },
        "id": "XQSa8QT8WWr3",
        "outputId": "3ce0a19c-8d4b-40af-849f-f489b02c9dbb"
      },
      "execution_count": null,
      "outputs": [
        {
          "output_type": "stream",
          "name": "stdout",
          "text": [
            "Los elementos de la lista universidades son \n",
            "['UNI', 'San Marcos', 'UPC', 'Catolica', 'Cesar Vallejo', 'UTEC', 'Agraria', 'Trujillo']\n",
            "8\n"
          ]
        },
        {
          "output_type": "execute_result",
          "data": {
            "text/plain": [
              "['UTEC', 'Agraria', 'Trujillo']"
            ]
          },
          "metadata": {},
          "execution_count": 25
        }
      ]
    },
    {
      "cell_type": "markdown",
      "source": [
        "## [8] Copiar una lista"
      ],
      "metadata": {
        "id": "_V71W0HcR35w"
      }
    },
    {
      "cell_type": "code",
      "source": [
        "print(f\"La lista librerias contiene los elementos \\n{librerias}\")"
      ],
      "metadata": {
        "id": "fGMsX6P7R0i8",
        "colab": {
          "base_uri": "https://localhost:8080/"
        },
        "outputId": "e149323c-0cf2-44c7-fc1f-bdb42e4c24a9"
      },
      "execution_count": null,
      "outputs": [
        {
          "output_type": "stream",
          "name": "stdout",
          "text": [
            "La lista librerias contiene los elementos \n",
            "['numpy', 'pandas', 'scipy', 'matplotlib', 'scikit learn']\n"
          ]
        }
      ]
    },
    {
      "cell_type": "code",
      "source": [
        "herramientas = librerias[:]"
      ],
      "metadata": {
        "id": "G27YO4BZSBZC"
      },
      "execution_count": null,
      "outputs": []
    },
    {
      "cell_type": "code",
      "source": [
        "librerias.append('re')"
      ],
      "metadata": {
        "id": "5GVRvm6HSFk4"
      },
      "execution_count": null,
      "outputs": []
    },
    {
      "cell_type": "code",
      "source": [
        "herramientas.append('sqlAlchemy')"
      ],
      "metadata": {
        "id": "QKZkMz2NSHiA"
      },
      "execution_count": null,
      "outputs": []
    },
    {
      "cell_type": "code",
      "source": [
        "print(f\"La lista librerias contiene los elementos \\n{librerias}\")"
      ],
      "metadata": {
        "id": "NwdYAgaKSLS6",
        "colab": {
          "base_uri": "https://localhost:8080/"
        },
        "outputId": "8a80a17e-fcc8-461f-d88e-17687c884905"
      },
      "execution_count": null,
      "outputs": [
        {
          "output_type": "stream",
          "name": "stdout",
          "text": [
            "La lista librerias contiene los elementos \n",
            "['numpy', 'pandas', 'scipy', 'matplotlib', 'scikit learn', 're']\n"
          ]
        }
      ]
    },
    {
      "cell_type": "code",
      "source": [
        "print(f\"La lista herramientas contiene los elementos \\n{herramientas}\")"
      ],
      "metadata": {
        "id": "c9smWBJFSNPK",
        "colab": {
          "base_uri": "https://localhost:8080/"
        },
        "outputId": "c8bf4f27-d2dc-4e54-a6f6-a43dd6867fd7"
      },
      "execution_count": null,
      "outputs": [
        {
          "output_type": "stream",
          "name": "stdout",
          "text": [
            "La lista herramientas contiene los elementos \n",
            "['numpy', 'pandas', 'scipy', 'matplotlib', 'scikit learn', 'sqlAlchemy']\n"
          ]
        }
      ]
    },
    {
      "cell_type": "code",
      "source": [
        "estudios = universidades[:]"
      ],
      "metadata": {
        "id": "MQFjW5zLSQjy"
      },
      "execution_count": null,
      "outputs": []
    },
    {
      "cell_type": "code",
      "source": [
        "universidades.append('harvard')\n",
        "estudios.append('mit')"
      ],
      "metadata": {
        "id": "sgBlOI-hXQjR"
      },
      "execution_count": null,
      "outputs": []
    },
    {
      "cell_type": "code",
      "source": [
        "print(f\"La lista universidades contiene los elementos \\n{universidades}\")"
      ],
      "metadata": {
        "colab": {
          "base_uri": "https://localhost:8080/"
        },
        "id": "o2SAxcULXWQb",
        "outputId": "70673f99-4db5-4c9e-ec74-bf6e086e136a"
      },
      "execution_count": null,
      "outputs": [
        {
          "output_type": "stream",
          "name": "stdout",
          "text": [
            "La lista universidades contiene los elementos \n",
            "['UNI', 'San Marcos', 'UPC', 'Catolica', 'Cesar Vallejo', 'UTEC', 'Agraria', 'Trujillo', 'harvard', 'mit', 'harvard']\n"
          ]
        }
      ]
    },
    {
      "cell_type": "code",
      "source": [
        "print(f\"La lista universidades contiene los elementos \\n{estudios}\")"
      ],
      "metadata": {
        "colab": {
          "base_uri": "https://localhost:8080/"
        },
        "id": "edJ9w2RwXcSA",
        "outputId": "2c8ea3ce-2b12-4828-ed68-a16a110aabfb"
      },
      "execution_count": null,
      "outputs": [
        {
          "output_type": "stream",
          "name": "stdout",
          "text": [
            "La lista universidades contiene los elementos \n",
            "['UNI', 'San Marcos', 'UPC', 'Catolica', 'Cesar Vallejo', 'UTEC', 'Agraria', 'Trujillo', 'harvard', 'mit', 'mit']\n"
          ]
        }
      ]
    },
    {
      "cell_type": "markdown",
      "source": [
        "## Retos"
      ],
      "metadata": {
        "id": "PcNX4Ng1bfam"
      }
    },
    {
      "cell_type": "markdown",
      "source": [
        "### Reto 001"
      ],
      "metadata": {
        "id": "Ji6KVee8bh-H"
      }
    },
    {
      "cell_type": "markdown",
      "source": [
        "\n",
        "*   1.1. Crear una lista que inicie en el número 12 y acabe en el número 200, en su construcción se considere saltos de 2 en 2, guarde la lista con el nombre \"lista_x\".\n",
        "*  1.2. Con la lista_x, eliminar el primer y el último valor, los valores eliminados se deberán almacenar en otra lista llamada numeros_eliminados.\n",
        "*  1.3. Muestre los valores de la lista numeros_eliminados.\n",
        "*  1.4. Muestre los valores mínimos y máximos de la lista_x.\n"
      ],
      "metadata": {
        "id": "5EpEozhKbk1e"
      }
    },
    {
      "cell_type": "code",
      "source": [
        "#1.1\n",
        "lista_x = list(range(12,201,2))\n",
        "print(f\"Los elementos de lista_x son \\n{lista_x}\")\n",
        "\n",
        "# 1.2 Eliminar el primer y el último valor y guardarlos en numeros_eliminados\n",
        "numeros_eliminados = [lista_x.pop(0), lista_x.pop()]\n",
        "\n",
        "# 1.3 Mostrar los valores de numeros_eliminados\n",
        "print(\"\\nNúmeros eliminados:\", numeros_eliminados)\n",
        "\n",
        "# 1.4 Mostrar los valores mínimos y máximos de la lista_x\n",
        "print(\"\\nValor mínimo de lista_x:\", min(lista_x))\n",
        "print(\"\\nValor máximo de lista_x:\", max(lista_x))"
      ],
      "metadata": {
        "colab": {
          "base_uri": "https://localhost:8080/"
        },
        "id": "GtmPq0sWXgIq",
        "outputId": "d9c54bb9-99c3-484c-8eef-2158a05e3df0"
      },
      "execution_count": null,
      "outputs": [
        {
          "output_type": "stream",
          "name": "stdout",
          "text": [
            "Los elementos de lista_x son \n",
            "[12, 14, 16, 18, 20, 22, 24, 26, 28, 30, 32, 34, 36, 38, 40, 42, 44, 46, 48, 50, 52, 54, 56, 58, 60, 62, 64, 66, 68, 70, 72, 74, 76, 78, 80, 82, 84, 86, 88, 90, 92, 94, 96, 98, 100, 102, 104, 106, 108, 110, 112, 114, 116, 118, 120, 122, 124, 126, 128, 130, 132, 134, 136, 138, 140, 142, 144, 146, 148, 150, 152, 154, 156, 158, 160, 162, 164, 166, 168, 170, 172, 174, 176, 178, 180, 182, 184, 186, 188, 190, 192, 194, 196, 198, 200]\n",
            "\n",
            "Números eliminados: [12, 200]\n",
            "\n",
            "Valor mínimo de lista_x: 14\n",
            "\n",
            "Valor máximo de lista_x: 198\n"
          ]
        }
      ]
    },
    {
      "cell_type": "code",
      "source": [
        "#1.1\n",
        "lista_x = list(range(12,201,2))\n",
        "print(f\"La lista lista_x contiene los elementos \\n{lista_x}\")\n",
        "\n",
        "#1.2\n",
        "numeros_eliminados = [lista_x[0],lista_x[-1]]\n",
        "lista_x.remove(lista_x[0])\n",
        "lista_x.remove(lista_x[-1])\n",
        "#1.3\n",
        "print(f\"La lista numeros_eliminados contiene los elementos \\n{numeros_eliminados}\")\n",
        "#1.4\n",
        "print(f\"El valor mínimo de la lista lista_x es {min(lista_x)}\")\n",
        "print(f\"El valor máximo de la lista lista_x es {max(lista_x)}\")"
      ],
      "metadata": {
        "colab": {
          "base_uri": "https://localhost:8080/"
        },
        "id": "vEFDkLf5dWcL",
        "outputId": "b9bf8695-87e3-4392-ff0f-2996073b8586"
      },
      "execution_count": null,
      "outputs": [
        {
          "output_type": "stream",
          "name": "stdout",
          "text": [
            "La lista lista_x contiene los elementos \n",
            "[12, 14, 16, 18, 20, 22, 24, 26, 28, 30, 32, 34, 36, 38, 40, 42, 44, 46, 48, 50, 52, 54, 56, 58, 60, 62, 64, 66, 68, 70, 72, 74, 76, 78, 80, 82, 84, 86, 88, 90, 92, 94, 96, 98, 100, 102, 104, 106, 108, 110, 112, 114, 116, 118, 120, 122, 124, 126, 128, 130, 132, 134, 136, 138, 140, 142, 144, 146, 148, 150, 152, 154, 156, 158, 160, 162, 164, 166, 168, 170, 172, 174, 176, 178, 180, 182, 184, 186, 188, 190, 192, 194, 196, 198, 200]\n",
            "La lista numeros_eliminados contiene los elementos \n",
            "[12, 200]\n",
            "El valor mínimo de la lista lista_x es 14\n",
            "El valor máximo de la lista lista_x es 198\n"
          ]
        }
      ]
    },
    {
      "cell_type": "code",
      "source": [
        "# 1.1.\n",
        "lista_x = list(range(12,201,2))\n",
        "#1.2\n",
        "delete_numbers = []\n",
        "delete_numbers.append(lista_x[0])\n",
        "delete_numbers.append(lista_x[len(lista_x)-1])\n",
        "lista_x.pop(0)\n",
        "lista_x.pop()\n",
        "# 1.3.\n",
        "print(delete_numbers)\n",
        "# 1.4.\n",
        "print(f\"El valor mínimo de la lista lista_x es {min(lista_x)}\")\n",
        "print(f\"El valor máximo de la lista lista_x es {max(lista_x)}\")"
      ],
      "metadata": {
        "colab": {
          "base_uri": "https://localhost:8080/"
        },
        "id": "f8E4MYHLeJnV",
        "outputId": "41e6c24e-ddf0-4d9e-ab3d-5d3978ea5d43"
      },
      "execution_count": null,
      "outputs": [
        {
          "output_type": "stream",
          "name": "stdout",
          "text": [
            "[12, 200]\n",
            "El valor mínimo de la lista lista_x es 14\n",
            "El valor máximo de la lista lista_x es 198\n"
          ]
        }
      ]
    },
    {
      "cell_type": "markdown",
      "source": [
        "### Reto N002"
      ],
      "metadata": {
        "id": "qEwEV_6re2nR"
      }
    },
    {
      "cell_type": "markdown",
      "source": [
        "\n",
        "* 2.1. Determine el número de elementos de la lista a crear.\n",
        "* 2.2. Ingrese los valores de la lista a crear.\n",
        "* 2.3. Almacene los valores en una lista.\n",
        "* 2.4. Muestre los valores de la lista.\n",
        "* 2.5. Calcule y muestre los valores mínimo, máximo y promedio de los valores de la lista.\n",
        "\n",
        "\n",
        "\n",
        "\n"
      ],
      "metadata": {
        "id": "It9BPXLrf6Wn"
      }
    },
    {
      "cell_type": "code",
      "source": [
        "# ALTERNATIVA 1\n",
        "\n",
        "n = int(input(\"Ingrese la cantidad de elementos a ingresar en la lista: \"))\n",
        "print(f\"Ingrese los {n} elementos\")"
      ],
      "metadata": {
        "colab": {
          "base_uri": "https://localhost:8080/"
        },
        "id": "1vcDEG2zhBT4",
        "outputId": "fb4ba7a4-d3b3-481d-ee13-fabebf8ae07d"
      },
      "execution_count": null,
      "outputs": [
        {
          "output_type": "stream",
          "name": "stdout",
          "text": [
            "Ingrese la cantidad de elementos a ingresar en la lista: 5\n",
            "Ingrese los 5 elementos\n"
          ]
        }
      ]
    },
    {
      "cell_type": "code",
      "source": [
        "elementos = [] # lista vacía\n",
        "for elemento in range(n):\n",
        "  elementos.insert(elemento,int(input(f\"Ingresa el elemento que se almacenará en el índice {elemento}: \")))"
      ],
      "metadata": {
        "colab": {
          "base_uri": "https://localhost:8080/"
        },
        "id": "ThnFWa4XheJt",
        "outputId": "6bb78cbf-c4ea-4cc3-e70d-6797c77861df"
      },
      "execution_count": null,
      "outputs": [
        {
          "name": "stdout",
          "output_type": "stream",
          "text": [
            "Ingresa el elemento que se almacenará en el índice 0: 5\n",
            "Ingresa el elemento que se almacenará en el índice 1: 10\n",
            "Ingresa el elemento que se almacenará en el índice 2: 6\n",
            "Ingresa el elemento que se almacenará en el índice 3: 8\n",
            "Ingresa el elemento que se almacenará en el índice 4: 12\n"
          ]
        }
      ]
    },
    {
      "cell_type": "code",
      "source": [
        "print(f\"Los elementos de la lista son \\n{elementos}\")\n",
        "print(f\"El valor mínimo de la lista es {min(elementos)}\")\n",
        "print(f\"El valor máximo de la lista es {max(elementos)}\")\n",
        "print(f\"El valor promedio de la lista es {sum(elementos)/len(elementos)}\")"
      ],
      "metadata": {
        "colab": {
          "base_uri": "https://localhost:8080/"
        },
        "id": "DDjP9rrtir-B",
        "outputId": "b2034f1d-1ee6-44f9-8d57-7c35e050b0a8"
      },
      "execution_count": null,
      "outputs": [
        {
          "output_type": "stream",
          "name": "stdout",
          "text": [
            "Los elementos de la lista son \n",
            "[5, 10, 6, 8, 12]\n",
            "El valor mínimo de la lista es 5\n",
            "El valor máximo de la lista es 12\n",
            "El valor promedio de la lista es 8.2\n"
          ]
        }
      ]
    },
    {
      "cell_type": "code",
      "source": [
        "# ALTERNATIVA 2\n",
        "\n",
        "# 2.1 Determinar el número de elementos\n",
        "n = int(input(\"¿Cuántos elementos tendrá la lista?: \"))\n",
        "\n",
        "# 2.2 y 2.3 Ingresar y almacenar los valores en una lista\n",
        "lista = []\n",
        "for i in range(n):\n",
        "    valor = float(input(f\"Ingrese el valor {i + 1}: \"))\n",
        "    lista.append(valor)\n",
        "\n",
        "# 2.4 Mostrar los valores de la lista\n",
        "print(\"\\nValores ingresados:\")\n",
        "print(lista)\n",
        "\n",
        "# 2.5 Calcular y mostrar mínimo, máximo y promedio\n",
        "minimo = min(lista)\n",
        "maximo = max(lista)\n",
        "promedio = sum(lista) / len(lista)\n",
        "\n",
        "print(f\"\\nValor mínimo: {minimo}\")\n",
        "print(f\"Valor máximo: {maximo}\")\n",
        "print(f\"Valor máximo: {promedio}\")"
      ],
      "metadata": {
        "colab": {
          "base_uri": "https://localhost:8080/"
        },
        "id": "CNOUd0tIehZ_",
        "outputId": "1d3c5027-83ac-41a5-df3c-6ddaa48c33cb"
      },
      "execution_count": null,
      "outputs": [
        {
          "output_type": "stream",
          "name": "stdout",
          "text": [
            "¿Cuántos elementos tendrá la lista?: 6\n",
            "Ingrese el valor 1: 12.2\n",
            "Ingrese el valor 2: 12\n",
            "Ingrese el valor 3: 10\n",
            "Ingrese el valor 4: 10.5\n",
            "Ingrese el valor 5: 11.7\n",
            "Ingrese el valor 6: 13\n",
            "\n",
            "Valores ingresados:\n",
            "[12.2, 12.0, 10.0, 10.5, 11.7, 13.0]\n",
            "\n",
            "Valor mínimo: 10.0\n",
            "Valor máximo: 13.0\n",
            "Valor máximo: 11.566666666666668\n"
          ]
        }
      ]
    },
    {
      "cell_type": "markdown",
      "source": [
        "## Reto N003"
      ],
      "metadata": {
        "id": "OqUh2fqBk1-J"
      }
    },
    {
      "cell_type": "markdown",
      "source": [
        "\n",
        "*   3.1. Ingrese a python la siguiente lista_x = [\"A\", \"B\", \"b\", \"c\", \"E\", \"E\", \"f\"]\n",
        "*   3.2. Solicitar al usuario un elemento a eliminar.\n",
        "*   3.3. Mostrar el elemento eliminado y la lista resultante.\n",
        "\n",
        "\n",
        "\n",
        "\n",
        "\n",
        "\n",
        "\n"
      ],
      "metadata": {
        "id": "3rh6BpE7k4y0"
      }
    },
    {
      "cell_type": "code",
      "source": [
        "# ALTERNATIVA 1\n",
        "#####################\n",
        "\n",
        "#3.1\n",
        "lista_z = [\"A\", \"B\", \"b\", \"c\", \"E\", \"E\", \"f\"]\n",
        "print(f\"La lista_z contiene los elementos \\n{lista_z}\")\n",
        "#3.2\n",
        "elemento_eliminar = input(\"Ingrese el elemento a eliminar: \")\n",
        "#3.3\n",
        "lista_z.remove(elemento_eliminar)\n",
        "print(f\"El elemento eliminado es {elemento_eliminar}\")\n",
        "print(f\"La lista resultante es {lista_z}\")"
      ],
      "metadata": {
        "colab": {
          "base_uri": "https://localhost:8080/"
        },
        "id": "3r2IouorkZvI",
        "outputId": "8e86c4d3-75dd-4a93-a880-0d28812c2fc6"
      },
      "execution_count": null,
      "outputs": [
        {
          "output_type": "stream",
          "name": "stdout",
          "text": [
            "La lista_z contiene los elementos \n",
            "['A', 'B', 'b', 'c', 'E', 'E', 'f']\n",
            "Ingrese el elemento a eliminar: E\n",
            "El elemento eliminado es E\n",
            "La lista resultante es ['A', 'B', 'b', 'c', 'E', 'f']\n"
          ]
        }
      ]
    },
    {
      "cell_type": "code",
      "source": [
        "# ALTERNATIVA 2\n",
        "#####################\n",
        "\n",
        "lista_y = [\"A\", \"B\", \"b\", \"c\", \"E\", \"E\", \"f\"]\n",
        "el_el1 = input(\"Ingrese el elemento a eliminar: \")\n",
        "\n",
        "lista_z = []\n",
        "for elemento in lista_y:\n",
        "  if elemento != el_el1:\n",
        "    lista_z.append(elemento)\n",
        "print(f\"El elemento a eliminar es {el_el1}\")\n",
        "print(f\"La lista resultante es \\n{lista_z}\")"
      ],
      "metadata": {
        "colab": {
          "base_uri": "https://localhost:8080/"
        },
        "id": "M9206b-qmN3F",
        "outputId": "50a5f8d5-65f2-4a66-b205-f512d3d5691b"
      },
      "execution_count": null,
      "outputs": [
        {
          "output_type": "stream",
          "name": "stdout",
          "text": [
            "Ingrese el elemento a eliminar: E\n",
            "El elemento a eliminar es E\n",
            "La lista resultante es \n",
            "['A', 'B', 'b', 'c', 'f']\n"
          ]
        }
      ]
    },
    {
      "cell_type": "code",
      "source": [],
      "metadata": {
        "id": "40uprGAhnjg6"
      },
      "execution_count": null,
      "outputs": []
    }
  ]
}